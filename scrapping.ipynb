{
 "cells": [
  {
   "cell_type": "markdown",
   "id": "c184cbda-fa6e-4f7a-99ee-162c2ad0d2a8",
   "metadata": {},
   "source": [
    "# PROJET PYTHON POUR LA DATA SCIENCE 2022\n",
    "\n",
    "# THEME : ANALYSE DES AVIS DES STAGIAIRES ET EMPLOYES DE SOCIETE GENERALE TRANSMIS VIA LA PLATEFORME INDEED.COM ENTRE 2012 ET 2022  \n",
    "\n",
    "## Auteurs:\n",
    "* TALEB AHMED Raja\n",
    "* MAGAJIE WAMSA Berthe Magella\n",
    "* RENE Léo\n",
    "\n",
    "## Scrapping des commentaires des employés et stagiaires de Société Générale sur le site Indeed.com\n",
    "Le but de cette partie est de récupérer par webscrapping les données devant servir à notre analyse. Il s'agit notamment des retours d'expérience et commentaires des employés et stagiaires de SOCIETE GENERALE transmis sur la plateforme Indeed.com entre 2012 et 2022."
   ]
  },
  {
   "cell_type": "code",
   "execution_count": 1,
   "id": "4fddb041",
   "metadata": {
    "tags": []
   },
   "outputs": [
    {
     "name": "stdout",
     "output_type": "stream",
     "text": [
      "Collecting selenium\n",
      "  Downloading selenium-4.7.2-py3-none-any.whl (6.3 MB)\n",
      "\u001b[2K     \u001b[90m━━━━━━━━━━━━━━━━━━━━━━━━━━━━━━━━━━━━━━━━\u001b[0m \u001b[32m6.3/6.3 MB\u001b[0m \u001b[31m18.6 MB/s\u001b[0m eta \u001b[36m0:00:00\u001b[0m00:01\u001b[0m00:01\u001b[0m\n",
      "\u001b[?25hRequirement already satisfied: urllib3[socks]~=1.26 in /opt/mamba/lib/python3.10/site-packages (from selenium) (1.26.11)\n",
      "Requirement already satisfied: certifi>=2021.10.8 in /opt/mamba/lib/python3.10/site-packages (from selenium) (2022.9.24)\n",
      "Collecting trio~=0.17\n",
      "  Downloading trio-0.22.0-py3-none-any.whl (384 kB)\n",
      "\u001b[2K     \u001b[90m━━━━━━━━━━━━━━━━━━━━━━━━━━━━━━━━━━━━━━\u001b[0m \u001b[32m384.9/384.9 kB\u001b[0m \u001b[31m19.7 MB/s\u001b[0m eta \u001b[36m0:00:00\u001b[0m\n",
      "\u001b[?25hCollecting trio-websocket~=0.9\n",
      "  Downloading trio_websocket-0.9.2-py3-none-any.whl (16 kB)\n",
      "Requirement already satisfied: sortedcontainers in /opt/mamba/lib/python3.10/site-packages (from trio~=0.17->selenium) (2.4.0)\n",
      "Requirement already satisfied: attrs>=19.2.0 in /opt/mamba/lib/python3.10/site-packages (from trio~=0.17->selenium) (22.1.0)\n",
      "Collecting exceptiongroup>=1.0.0rc9\n",
      "  Downloading exceptiongroup-1.0.4-py3-none-any.whl (14 kB)\n",
      "Requirement already satisfied: idna in /opt/mamba/lib/python3.10/site-packages (from trio~=0.17->selenium) (3.4)\n",
      "Collecting outcome\n",
      "  Downloading outcome-1.2.0-py2.py3-none-any.whl (9.7 kB)\n",
      "Requirement already satisfied: sniffio in /opt/mamba/lib/python3.10/site-packages (from trio~=0.17->selenium) (1.3.0)\n",
      "Collecting async-generator>=1.9\n",
      "  Downloading async_generator-1.10-py3-none-any.whl (18 kB)\n",
      "Collecting wsproto>=0.14\n",
      "  Downloading wsproto-1.2.0-py3-none-any.whl (24 kB)\n",
      "Requirement already satisfied: PySocks!=1.5.7,<2.0,>=1.5.6 in /opt/mamba/lib/python3.10/site-packages (from urllib3[socks]~=1.26->selenium) (1.7.1)\n",
      "Collecting h11<1,>=0.9.0\n",
      "  Downloading h11-0.14.0-py3-none-any.whl (58 kB)\n",
      "\u001b[2K     \u001b[90m━━━━━━━━━━━━━━━━━━━━━━━━━━━━━━━━━━━━━━━━\u001b[0m \u001b[32m58.3/58.3 kB\u001b[0m \u001b[31m27.6 MB/s\u001b[0m eta \u001b[36m0:00:00\u001b[0m\n",
      "\u001b[?25hInstalling collected packages: outcome, h11, exceptiongroup, async-generator, wsproto, trio, trio-websocket, selenium\n",
      "Successfully installed async-generator-1.10 exceptiongroup-1.0.4 h11-0.14.0 outcome-1.2.0 selenium-4.7.2 trio-0.22.0 trio-websocket-0.9.2 wsproto-1.2.0\n"
     ]
    }
   ],
   "source": [
    "# Installer selenium\n",
    "!pip install selenium"
   ]
  },
  {
   "cell_type": "code",
   "execution_count": 16,
   "id": "e2450650",
   "metadata": {},
   "outputs": [],
   "source": [
    "from selenium import webdriver\n",
    "from selenium.webdriver.common.by import By\n",
    "import time\n",
    "import pandas as pd"
   ]
  },
  {
   "cell_type": "markdown",
   "id": "569b7617",
   "metadata": {},
   "source": [
    "# Scrapping"
   ]
  },
  {
   "cell_type": "code",
   "execution_count": 37,
   "id": "d09f59c8",
   "metadata": {
    "collapsed": true,
    "jupyter": {
     "outputs_hidden": true
    },
    "tags": []
   },
   "outputs": [
    {
     "ename": "WebDriverException",
     "evalue": "Message: Service chromedriver unexpectedly exited. Status code was: 127\n",
     "output_type": "error",
     "traceback": [
      "\u001b[0;31m---------------------------------------------------------------------------\u001b[0m",
      "\u001b[0;31mWebDriverException\u001b[0m                        Traceback (most recent call last)",
      "Cell \u001b[0;32mIn [37], line 2\u001b[0m\n\u001b[1;32m      1\u001b[0m \u001b[38;5;66;03m# Ouvrir le site indeed en utilisant chromedriver\u001b[39;00m\n\u001b[0;32m----> 2\u001b[0m driver\u001b[38;5;241m=\u001b[39m\u001b[43mwebdriver\u001b[49m\u001b[38;5;241;43m.\u001b[39;49m\u001b[43mChrome\u001b[49m\u001b[43m(\u001b[49m\u001b[38;5;124;43m'\u001b[39;49m\u001b[38;5;124;43mchromedriver\u001b[39;49m\u001b[38;5;124;43m'\u001b[39;49m\u001b[43m)\u001b[49m\n\u001b[1;32m      3\u001b[0m driver\u001b[38;5;241m.\u001b[39mget(\u001b[38;5;124m'\u001b[39m\u001b[38;5;124mhttps://fr.indeed.com/cmp/Soci\u001b[39m\u001b[38;5;124m%\u001b[39m\u001b[38;5;124mC3\u001b[39m\u001b[38;5;124m%\u001b[39m\u001b[38;5;124mA9t\u001b[39m\u001b[38;5;124m%\u001b[39m\u001b[38;5;124mC3\u001b[39m\u001b[38;5;124m%\u001b[39m\u001b[38;5;124mA9-G\u001b[39m\u001b[38;5;124m%\u001b[39m\u001b[38;5;124mC3\u001b[39m\u001b[38;5;124m%\u001b[39m\u001b[38;5;124mA9n\u001b[39m\u001b[38;5;124m%\u001b[39m\u001b[38;5;124mC3\u001b[39m\u001b[38;5;124m%\u001b[39m\u001b[38;5;124mA9rale-1/reviews\u001b[39m\u001b[38;5;124m'\u001b[39m)\n",
      "File \u001b[0;32m/opt/mamba/lib/python3.10/site-packages/selenium/webdriver/chrome/webdriver.py:81\u001b[0m, in \u001b[0;36mWebDriver.__init__\u001b[0;34m(self, executable_path, port, options, service_args, desired_capabilities, service_log_path, chrome_options, service, keep_alive)\u001b[0m\n\u001b[1;32m     78\u001b[0m \u001b[38;5;28;01mif\u001b[39;00m \u001b[38;5;129;01mnot\u001b[39;00m service:\n\u001b[1;32m     79\u001b[0m     service \u001b[38;5;241m=\u001b[39m Service(executable_path, port, service_args, service_log_path)\n\u001b[0;32m---> 81\u001b[0m \u001b[38;5;28;43msuper\u001b[39;49m\u001b[43m(\u001b[49m\u001b[43m)\u001b[49m\u001b[38;5;241;43m.\u001b[39;49m\u001b[38;5;21;43m__init__\u001b[39;49m\u001b[43m(\u001b[49m\n\u001b[1;32m     82\u001b[0m \u001b[43m    \u001b[49m\u001b[43mDesiredCapabilities\u001b[49m\u001b[38;5;241;43m.\u001b[39;49m\u001b[43mCHROME\u001b[49m\u001b[43m[\u001b[49m\u001b[38;5;124;43m\"\u001b[39;49m\u001b[38;5;124;43mbrowserName\u001b[39;49m\u001b[38;5;124;43m\"\u001b[39;49m\u001b[43m]\u001b[49m\u001b[43m,\u001b[49m\n\u001b[1;32m     83\u001b[0m \u001b[43m    \u001b[49m\u001b[38;5;124;43m\"\u001b[39;49m\u001b[38;5;124;43mgoog\u001b[39;49m\u001b[38;5;124;43m\"\u001b[39;49m\u001b[43m,\u001b[49m\n\u001b[1;32m     84\u001b[0m \u001b[43m    \u001b[49m\u001b[43mport\u001b[49m\u001b[43m,\u001b[49m\n\u001b[1;32m     85\u001b[0m \u001b[43m    \u001b[49m\u001b[43moptions\u001b[49m\u001b[43m,\u001b[49m\n\u001b[1;32m     86\u001b[0m \u001b[43m    \u001b[49m\u001b[43mservice_args\u001b[49m\u001b[43m,\u001b[49m\n\u001b[1;32m     87\u001b[0m \u001b[43m    \u001b[49m\u001b[43mdesired_capabilities\u001b[49m\u001b[43m,\u001b[49m\n\u001b[1;32m     88\u001b[0m \u001b[43m    \u001b[49m\u001b[43mservice_log_path\u001b[49m\u001b[43m,\u001b[49m\n\u001b[1;32m     89\u001b[0m \u001b[43m    \u001b[49m\u001b[43mservice\u001b[49m\u001b[43m,\u001b[49m\n\u001b[1;32m     90\u001b[0m \u001b[43m    \u001b[49m\u001b[43mkeep_alive\u001b[49m\u001b[43m,\u001b[49m\n\u001b[1;32m     91\u001b[0m \u001b[43m\u001b[49m\u001b[43m)\u001b[49m\n",
      "File \u001b[0;32m/opt/mamba/lib/python3.10/site-packages/selenium/webdriver/chromium/webdriver.py:103\u001b[0m, in \u001b[0;36mChromiumDriver.__init__\u001b[0;34m(self, browser_name, vendor_prefix, port, options, service_args, desired_capabilities, service_log_path, service, keep_alive)\u001b[0m\n\u001b[1;32m    100\u001b[0m     \u001b[38;5;28;01mraise\u001b[39;00m \u001b[38;5;167;01mAttributeError\u001b[39;00m(\u001b[38;5;124m\"\u001b[39m\u001b[38;5;124mservice cannot be None\u001b[39m\u001b[38;5;124m\"\u001b[39m)\n\u001b[1;32m    102\u001b[0m \u001b[38;5;28mself\u001b[39m\u001b[38;5;241m.\u001b[39mservice \u001b[38;5;241m=\u001b[39m service\n\u001b[0;32m--> 103\u001b[0m \u001b[38;5;28;43mself\u001b[39;49m\u001b[38;5;241;43m.\u001b[39;49m\u001b[43mservice\u001b[49m\u001b[38;5;241;43m.\u001b[39;49m\u001b[43mstart\u001b[49m\u001b[43m(\u001b[49m\u001b[43m)\u001b[49m\n\u001b[1;32m    105\u001b[0m \u001b[38;5;28;01mtry\u001b[39;00m:\n\u001b[1;32m    106\u001b[0m     \u001b[38;5;28msuper\u001b[39m()\u001b[38;5;241m.\u001b[39m\u001b[38;5;21m__init__\u001b[39m(\n\u001b[1;32m    107\u001b[0m         command_executor\u001b[38;5;241m=\u001b[39mChromiumRemoteConnection(\n\u001b[1;32m    108\u001b[0m             remote_server_addr\u001b[38;5;241m=\u001b[39m\u001b[38;5;28mself\u001b[39m\u001b[38;5;241m.\u001b[39mservice\u001b[38;5;241m.\u001b[39mservice_url,\n\u001b[0;32m   (...)\u001b[0m\n\u001b[1;32m    114\u001b[0m         options\u001b[38;5;241m=\u001b[39moptions,\n\u001b[1;32m    115\u001b[0m     )\n",
      "File \u001b[0;32m/opt/mamba/lib/python3.10/site-packages/selenium/webdriver/common/service.py:106\u001b[0m, in \u001b[0;36mService.start\u001b[0;34m(self)\u001b[0m\n\u001b[1;32m    104\u001b[0m count \u001b[38;5;241m=\u001b[39m \u001b[38;5;241m0\u001b[39m\n\u001b[1;32m    105\u001b[0m \u001b[38;5;28;01mwhile\u001b[39;00m \u001b[38;5;28;01mTrue\u001b[39;00m:\n\u001b[0;32m--> 106\u001b[0m     \u001b[38;5;28;43mself\u001b[39;49m\u001b[38;5;241;43m.\u001b[39;49m\u001b[43massert_process_still_running\u001b[49m\u001b[43m(\u001b[49m\u001b[43m)\u001b[49m\n\u001b[1;32m    107\u001b[0m     \u001b[38;5;28;01mif\u001b[39;00m \u001b[38;5;28mself\u001b[39m\u001b[38;5;241m.\u001b[39mis_connectable():\n\u001b[1;32m    108\u001b[0m         \u001b[38;5;28;01mbreak\u001b[39;00m\n",
      "File \u001b[0;32m/opt/mamba/lib/python3.10/site-packages/selenium/webdriver/common/service.py:119\u001b[0m, in \u001b[0;36mService.assert_process_still_running\u001b[0;34m(self)\u001b[0m\n\u001b[1;32m    117\u001b[0m return_code \u001b[38;5;241m=\u001b[39m \u001b[38;5;28mself\u001b[39m\u001b[38;5;241m.\u001b[39mprocess\u001b[38;5;241m.\u001b[39mpoll()\n\u001b[1;32m    118\u001b[0m \u001b[38;5;28;01mif\u001b[39;00m return_code:\n\u001b[0;32m--> 119\u001b[0m     \u001b[38;5;28;01mraise\u001b[39;00m WebDriverException(\u001b[38;5;124mf\u001b[39m\u001b[38;5;124m\"\u001b[39m\u001b[38;5;124mService \u001b[39m\u001b[38;5;132;01m{\u001b[39;00m\u001b[38;5;28mself\u001b[39m\u001b[38;5;241m.\u001b[39mpath\u001b[38;5;132;01m}\u001b[39;00m\u001b[38;5;124m unexpectedly exited. Status code was: \u001b[39m\u001b[38;5;132;01m{\u001b[39;00mreturn_code\u001b[38;5;132;01m}\u001b[39;00m\u001b[38;5;124m\"\u001b[39m)\n",
      "\u001b[0;31mWebDriverException\u001b[0m: Message: Service chromedriver unexpectedly exited. Status code was: 127\n"
     ]
    }
   ],
   "source": [
    "# Ouvrir le site Indeed en utilisant chromedriver\n",
    "driver=webdriver.Chrome('chromedriver')\n",
    "driver.get('https://fr.indeed.com/cmp/Soci%C3%A9t%C3%A9-G%C3%A9n%C3%A9rale-1/reviews')"
   ]
  },
  {
   "cell_type": "code",
   "execution_count": 29,
   "id": "2939dc0a",
   "metadata": {
    "collapsed": true,
    "jupyter": {
     "outputs_hidden": true
    },
    "tags": []
   },
   "outputs": [
    {
     "ename": "NameError",
     "evalue": "name 'driver' is not defined",
     "output_type": "error",
     "traceback": [
      "\u001b[0;31m---------------------------------------------------------------------------\u001b[0m",
      "\u001b[0;31mNameError\u001b[0m                                 Traceback (most recent call last)",
      "Cell \u001b[0;32mIn [29], line 10\u001b[0m\n\u001b[1;32m      8\u001b[0m xpath \u001b[38;5;241m=\u001b[39m \u001b[38;5;124m'\u001b[39m\u001b[38;5;124m//*[@id=\u001b[39m\u001b[38;5;124m\"\u001b[39m\u001b[38;5;124mcmp-container\u001b[39m\u001b[38;5;124m\"\u001b[39m\u001b[38;5;124m]/div/div[1]/main/div[2]/div[1]/div/div[\u001b[39m\u001b[38;5;124m'\u001b[39m \u001b[38;5;241m+\u001b[39m \u001b[38;5;28mstr\u001b[39m(i) \u001b[38;5;241m+\u001b[39m \u001b[38;5;124m'\u001b[39m\u001b[38;5;124m]\u001b[39m\u001b[38;5;124m'\u001b[39m\n\u001b[1;32m      9\u001b[0m \u001b[38;5;28;01mtry\u001b[39;00m :\n\u001b[0;32m---> 10\u001b[0m     metier \u001b[38;5;241m=\u001b[39m \u001b[43mdriver\u001b[49m\u001b[38;5;241m.\u001b[39mfind_element(By\u001b[38;5;241m.\u001b[39mXPATH, xpath)\n\u001b[1;32m     11\u001b[0m     fichier\u001b[38;5;241m.\u001b[39mwrite(metier\u001b[38;5;241m.\u001b[39mtext\u001b[38;5;241m+\u001b[39m \u001b[38;5;241m2\u001b[39m\u001b[38;5;241m*\u001b[39m\u001b[38;5;124m'\u001b[39m\u001b[38;5;130;01m\\n\u001b[39;00m\u001b[38;5;124m'\u001b[39m)\n\u001b[1;32m     13\u001b[0m     sep \u001b[38;5;241m=\u001b[39m \u001b[38;5;241m10\u001b[39m\u001b[38;5;241m*\u001b[39m\u001b[38;5;124m'\u001b[39m\u001b[38;5;124m#\u001b[39m\u001b[38;5;124m'\u001b[39m\n",
      "\u001b[0;31mNameError\u001b[0m: name 'driver' is not defined"
     ]
    }
   ],
   "source": [
    "from selenium.webdriver.remote.errorhandler import NoSuchElementException\n",
    "fichier = open(\"sg.txt\", \"w\", encoding=\"utf-8\")\n",
    "i = 1\n",
    "\n",
    "suivant_xpath = '//*[@id=\"cmp-container\"]/div/div[1]/main/div[2]/div[1]/div/nav/ul/li/a'\n",
    "\n",
    "while(True):\n",
    "    xpath = '//*[@id=\"cmp-container\"]/div/div[1]/main/div[2]/div[1]/div/div[' + str(i) + ']'\n",
    "    try :\n",
    "        metier = driver.find_element(By.XPATH, xpath)\n",
    "        fichier.write(metier.text+ 2*'\\n')\n",
    "        \n",
    "        sep = 10*'#'\n",
    "        fichier.write(sep + 2*'\\n')\n",
    "        i=i+1\n",
    "        \n",
    "    except NoSuchElementException : \n",
    "        time.sleep(60)\n",
    "        suivant = driver.find_element(By.XPATH, suivant_xpath)\n",
    "        suivant_xpath = '//*[@id=\"cmp-container\"]/div/div[1]/main/div[2]/div[1]/div/nav/ul/li[2]/a'\n",
    "        suivant.click()\n",
    "        i=1\n"
   ]
  },
  {
   "cell_type": "code",
   "execution_count": null,
   "id": "434ab5b5",
   "metadata": {},
   "outputs": [],
   "source": [
    "fichier.close()"
   ]
  },
  {
   "cell_type": "markdown",
   "id": "d6b91d78",
   "metadata": {},
   "source": [
    "# Création de la Base de données "
   ]
  },
  {
   "cell_type": "code",
   "execution_count": 6,
   "id": "35179559",
   "metadata": {},
   "outputs": [],
   "source": [
    "import pandas as pd"
   ]
  },
  {
   "cell_type": "code",
   "execution_count": 7,
   "id": "8d148331",
   "metadata": {},
   "outputs": [],
   "source": [
    "fichier = open('sg.txt', 'r', encoding=\"utf-8\")\n",
    "text = fichier.read()\n",
    "parts = text.split('\\n##########\\n\\n')"
   ]
  },
  {
   "cell_type": "code",
   "execution_count": 28,
   "id": "02d8ca31",
   "metadata": {},
   "outputs": [],
   "source": [
    "errors = {\n",
    "    'rating': [],\n",
    "    'job_city_date': []        \n",
    "}\n",
    "\n",
    "df = pd.DataFrame(columns= ['rating', 'contract_or_title', 'job', 'city', 'date', 'comment'])\n",
    "\n",
    "for avis in parts:\n",
    "    new_row = {}\n",
    "    avis_par_ligne = avis.split('\\n')\n",
    "    i = 0\n",
    "    \n",
    "    rating = avis_par_ligne[i]\n",
    "    # convertir par example '3,0' à 3.0\n",
    "    rating = rating.replace(',', '.')\n",
    "    try:\n",
    "        # si la premiére ligne correspond à un classement on enregistre\n",
    "        rating = float(rating)\n",
    "\n",
    "        # passage à la ligne suivante\n",
    "        i+=1\n",
    "\n",
    "    except ValueError:\n",
    "        errors['rating'].append(avis)\n",
    "        continue\n",
    "\n",
    "    contract_or_title = avis_par_ligne[i]\n",
    "    i+=1\n",
    "\n",
    "    job_city_date = avis_par_ligne[i]\n",
    "\n",
    "    try :\n",
    "        job, city, date = job_city_date.split(' - ')\n",
    "        i+=1\n",
    "\n",
    "    except ValueError : \n",
    "\n",
    "        errors['job_city_date'].append(avis)\n",
    "        continue\n",
    "\n",
    "    comment = ''\n",
    "    while avis_par_ligne[i] in ['Avis à la une', \"L'avis le plus utile, sélectionné par Indeed\"]:\n",
    "        i+=1\n",
    " \n",
    "\n",
    "\n",
    "    while i<len(avis_par_ligne) and  avis_par_ligne[i]!= 'Avez-vous trouvé cet avis utile ?':\n",
    "        \n",
    "        comment += avis_par_ligne[i] + '\\n'\n",
    "        i+=1\n",
    "        \n",
    "    new_row = {\n",
    "        'rating': rating,\n",
    "        'contract_or_title': contract_or_title,\n",
    "        'job': job,\n",
    "        'city': city,\n",
    "        'date': date,\n",
    "        'comment': comment\n",
    "    }\n",
    "    df = df.append(new_row, ignore_index=True)\n",
    "\n",
    "fichier.close()"
   ]
  },
  {
   "cell_type": "code",
   "execution_count": 29,
   "id": "c5f1813a",
   "metadata": {},
   "outputs": [
    {
     "data": {
      "text/html": [
       "<div>\n",
       "<style scoped>\n",
       "    .dataframe tbody tr th:only-of-type {\n",
       "        vertical-align: middle;\n",
       "    }\n",
       "\n",
       "    .dataframe tbody tr th {\n",
       "        vertical-align: top;\n",
       "    }\n",
       "\n",
       "    .dataframe thead th {\n",
       "        text-align: right;\n",
       "    }\n",
       "</style>\n",
       "<table border=\"1\" class=\"dataframe\">\n",
       "  <thead>\n",
       "    <tr style=\"text-align: right;\">\n",
       "      <th></th>\n",
       "      <th>rating</th>\n",
       "      <th>contract_or_title</th>\n",
       "      <th>job</th>\n",
       "      <th>city</th>\n",
       "      <th>date</th>\n",
       "      <th>comment</th>\n",
       "    </tr>\n",
       "  </thead>\n",
       "  <tbody>\n",
       "    <tr>\n",
       "      <th>0</th>\n",
       "      <td>3.0</td>\n",
       "      <td>Cdd</td>\n",
       "      <td>Conseillère clientèle (ancien employé)</td>\n",
       "      <td>Massy (91)</td>\n",
       "      <td>17 mai 2022</td>\n",
       "      <td>Bonne équipe, dommage que la direction soit bl...</td>\n",
       "    </tr>\n",
       "    <tr>\n",
       "      <th>1</th>\n",
       "      <td>5.0</td>\n",
       "      <td>Une équipe au top</td>\n",
       "      <td>Responsable (ancien employé)</td>\n",
       "      <td>Falaise</td>\n",
       "      <td>28 novembre 2022</td>\n",
       "      <td>Équipe au top, l'esprit d'équipe fait la force...</td>\n",
       "    </tr>\n",
       "    <tr>\n",
       "      <th>2</th>\n",
       "      <td>4.0</td>\n",
       "      <td>agréable</td>\n",
       "      <td>Compliance Officer (ancien employé)</td>\n",
       "      <td>Nanterre (92)</td>\n",
       "      <td>25 novembre 2022</td>\n",
       "      <td>bonne ambiance, bonne équipe, bon relationnel,...</td>\n",
       "    </tr>\n",
       "    <tr>\n",
       "      <th>3</th>\n",
       "      <td>5.0</td>\n",
       "      <td>Très bonne expérience</td>\n",
       "      <td>Assistante administrative (ancien employé)</td>\n",
       "      <td>Saint-Dié-des-Vosges (88)</td>\n",
       "      <td>24 novembre 2022</td>\n",
       "      <td>Missions variées, solidarité dans l’équipe et ...</td>\n",
       "    </tr>\n",
       "    <tr>\n",
       "      <th>4</th>\n",
       "      <td>4.0</td>\n",
       "      <td>Expérience au siège</td>\n",
       "      <td>Chargée de communication (ancien employé)</td>\n",
       "      <td>La Défense (92)</td>\n",
       "      <td>24 novembre 2022</td>\n",
       "      <td>Première expérience professionnelle durant 3 a...</td>\n",
       "    </tr>\n",
       "    <tr>\n",
       "      <th>...</th>\n",
       "      <td>...</td>\n",
       "      <td>...</td>\n",
       "      <td>...</td>\n",
       "      <td>...</td>\n",
       "      <td>...</td>\n",
       "      <td>...</td>\n",
       "    </tr>\n",
       "    <tr>\n",
       "      <th>1847</th>\n",
       "      <td>4.0</td>\n",
       "      <td>Très agréable et formateur</td>\n",
       "      <td>stagiaire analyste financier (ancien employé)</td>\n",
       "      <td>Tour Société Générale à la défense</td>\n",
       "      <td>14 décembre 2012</td>\n",
       "      <td>Stage d'analyse financière dans le secteur imm...</td>\n",
       "    </tr>\n",
       "    <tr>\n",
       "      <th>1848</th>\n",
       "      <td>4.0</td>\n",
       "      <td>Cool</td>\n",
       "      <td>Financial Analyst (ancien employé)</td>\n",
       "      <td>Cergy, France</td>\n",
       "      <td>4 décembre 2012</td>\n",
       "      <td>I love my co workers.\\nI learnt a lot about ba...</td>\n",
       "    </tr>\n",
       "    <tr>\n",
       "      <th>1849</th>\n",
       "      <td>4.0</td>\n",
       "      <td>Environnement de travail</td>\n",
       "      <td>Fiscaliste Internationale en Back Office (anci...</td>\n",
       "      <td>Paris</td>\n",
       "      <td>14 novembre 2012</td>\n",
       "      <td>excellent environnement de travail.\\n\\nUne exp...</td>\n",
       "    </tr>\n",
       "    <tr>\n",
       "      <th>1850</th>\n",
       "      <td>4.0</td>\n",
       "      <td>environnement excellent</td>\n",
       "      <td>conseiller de clientèle (ancien employé)</td>\n",
       "      <td>grenoble</td>\n",
       "      <td>7 novembre 2012</td>\n",
       "      <td>environnement agréable,bonnes équipes,travail ...</td>\n",
       "    </tr>\n",
       "    <tr>\n",
       "      <th>1851</th>\n",
       "      <td>3.0</td>\n",
       "      <td>Environnement agréable</td>\n",
       "      <td>Timbreuse (ancien employé)</td>\n",
       "      <td>Paris</td>\n",
       "      <td>26 octobre 2012</td>\n",
       "      <td>C’était très agréable de travaillé dans cette ...</td>\n",
       "    </tr>\n",
       "  </tbody>\n",
       "</table>\n",
       "<p>1852 rows × 6 columns</p>\n",
       "</div>"
      ],
      "text/plain": [
       "      rating           contract_or_title  \\\n",
       "0        3.0                         Cdd   \n",
       "1        5.0           Une équipe au top   \n",
       "2        4.0                    agréable   \n",
       "3        5.0       Très bonne expérience   \n",
       "4        4.0         Expérience au siège   \n",
       "...      ...                         ...   \n",
       "1847     4.0  Très agréable et formateur   \n",
       "1848     4.0                        Cool   \n",
       "1849     4.0    Environnement de travail   \n",
       "1850     4.0     environnement excellent   \n",
       "1851     3.0      Environnement agréable   \n",
       "\n",
       "                                                    job  \\\n",
       "0                Conseillère clientèle (ancien employé)   \n",
       "1                          Responsable (ancien employé)   \n",
       "2                   Compliance Officer (ancien employé)   \n",
       "3            Assistante administrative (ancien employé)   \n",
       "4             Chargée de communication (ancien employé)   \n",
       "...                                                 ...   \n",
       "1847      stagiaire analyste financier (ancien employé)   \n",
       "1848                 Financial Analyst (ancien employé)   \n",
       "1849  Fiscaliste Internationale en Back Office (anci...   \n",
       "1850           conseiller de clientèle (ancien employé)   \n",
       "1851                         Timbreuse (ancien employé)   \n",
       "\n",
       "                                    city              date  \\\n",
       "0                             Massy (91)       17 mai 2022   \n",
       "1                                Falaise  28 novembre 2022   \n",
       "2                          Nanterre (92)  25 novembre 2022   \n",
       "3              Saint-Dié-des-Vosges (88)  24 novembre 2022   \n",
       "4                        La Défense (92)  24 novembre 2022   \n",
       "...                                  ...               ...   \n",
       "1847  Tour Société Générale à la défense  14 décembre 2012   \n",
       "1848                       Cergy, France   4 décembre 2012   \n",
       "1849                               Paris  14 novembre 2012   \n",
       "1850                            grenoble   7 novembre 2012   \n",
       "1851                               Paris   26 octobre 2012   \n",
       "\n",
       "                                                comment  \n",
       "0     Bonne équipe, dommage que la direction soit bl...  \n",
       "1     Équipe au top, l'esprit d'équipe fait la force...  \n",
       "2     bonne ambiance, bonne équipe, bon relationnel,...  \n",
       "3     Missions variées, solidarité dans l’équipe et ...  \n",
       "4     Première expérience professionnelle durant 3 a...  \n",
       "...                                                 ...  \n",
       "1847  Stage d'analyse financière dans le secteur imm...  \n",
       "1848  I love my co workers.\\nI learnt a lot about ba...  \n",
       "1849  excellent environnement de travail.\\n\\nUne exp...  \n",
       "1850  environnement agréable,bonnes équipes,travail ...  \n",
       "1851  C’était très agréable de travaillé dans cette ...  \n",
       "\n",
       "[1852 rows x 6 columns]"
      ]
     },
     "execution_count": 29,
     "metadata": {},
     "output_type": "execute_result"
    }
   ],
   "source": [
    "df"
   ]
  },
  {
   "cell_type": "code",
   "execution_count": 31,
   "id": "9f99461a",
   "metadata": {},
   "outputs": [
    {
     "data": {
      "text/plain": [
       "453"
      ]
     },
     "execution_count": 31,
     "metadata": {},
     "output_type": "execute_result"
    }
   ],
   "source": [
    "len(errors['rating'])"
   ]
  }
 ],
 "metadata": {
  "kernelspec": {
   "display_name": "Python 3 (ipykernel)",
   "language": "python",
   "name": "python3"
  },
  "language_info": {
   "codemirror_mode": {
    "name": "ipython",
    "version": 3
   },
   "file_extension": ".py",
   "mimetype": "text/x-python",
   "name": "python",
   "nbconvert_exporter": "python",
   "pygments_lexer": "ipython3",
   "version": "3.10.4"
  }
 },
 "nbformat": 4,
 "nbformat_minor": 5
}
