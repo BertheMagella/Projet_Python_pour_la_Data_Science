{
 "cells": [
  {
   "cell_type": "markdown",
   "id": "817359c9-1fef-461b-baed-8afe3630f842",
   "metadata": {},
   "source": [
    "# PROJET PYTHON POUR LA DATA SCIENCE 2022\n",
    "\n",
    "# THEME : ANALYSE DES AVIS DES STAGIAIRES ET EMPLOYES DE SOCIETE GENERALE TRANSMIS VIA LA PLATEFORME INDEED.COM ENTRE 2012 ET 2022  \n",
    "\n",
    "## Auteurs:\n",
    "* TALEB AHMED Raja\n",
    "* MAGAJIE WAMSA Berthe Magella\n",
    "* RENE Léo\n",
    "\n",
    "## ANALYSE DE DONNEES ET NATURAL LANGUAGE PROCESSING (NLP)\n",
    "\n",
    "### INTRODUCTION\n",
    "\n",
    "  ### Contexte et Justification du projet\n",
    "\n",
    "  Société Générale est l'un des tout premiers groupes européens de services financiers et acteur important de l’économie depuis plus de 150 ans. Au quotidien, 25 millions de clients sont accompagnés grâce à ses plus de 117 000 collaborateurs répartis dans 66 pays. Le groupe Société Générale se positionne en partenaire de confiance pour ses clients, engagé dans le développement durable de l’Afrique, ou bien encore pour l'accompagnement de la transition écologique mondiale. Quatre principales valeurs y sont partagées selon le site officiel du groupe : Esprit d’équipe, Innovation, Responsabilité, Engagement (https://www.societegenerale.com/fr/le-groupe-societe-generale/identite/presentation).  \n",
    "  \n",
    "  L’ENSAE Paris a noué des partenariats structurants avec des entreprises visant à améliorer leur visibilité auprès des élèves et à favoriser l’émergence des projets communs. Société Générale fait partie de ces partenaires prestigeux. Avec plus de 600 métiers dans le monde, l’entreprise recrute en effet des talents dans de nombreux secteurs : risques, IT, data, consulting interne, etc. Pour les étudiants ou jeunes diplômés curieux et motivés par les défis d’une grande banque, il s'agirait du cadre adéquat; aussi, sa promesse est d'offrir à tout employé un environnement dans lequel il s'épanouie en développant son potentiel (https://www.ensae.fr/entreprises/devenir-partenaire-de-lensae-paris/nos-partenaires).\n",
    "  \n",
    "  Indeed est une plateforme de recherche d'emplois qui permet aux employeurs de publier des offres et aux personnes en quête d'emplois de postuler; aussi des avis sur les entreprises y sont transmis, faisant office de retour d'expérience. Ces avis, s'ils sont bien exploités, peuvent être utiles non seulement aux chercheurs d'emplois dans leur quête, mais aussi aux entreprises pour l'amélioration du quotidien de leurs employés. \n",
    "\n",
    "  ### Objectifs\n",
    "  \n",
    "L'objectif général de ce projet est d'évaluer la Société Générale au travers des retours d'expériences et avis de ceux qui y ont travaillé et ceux qui y travaillent encore. Plus spécifiquement, il s'agit de:\n",
    "   * Décrire les avis transmis sur Indeed selon plusieurs critères;\n",
    "   * Présenter un niveau d'appréciation global;\n",
    "   * Ressortir les préoccupations les plus fréquentes;\n",
    "   * Analyser les potentiels facteurs qui influencent le niveau d'appréciation des employés et stagiaires. \n",
    "\n",
    "  ### Méthodologie du projet\n",
    "\n",
    "Afin d'atteindre les objectifs énoncés ci-dessus, nous avons utilisé les méthodes suivantes:\n",
    "\n",
    "   - Web-Scrapping :\n",
    "Pour constituer notre base de données, nous avons extrait des données structurées sur le Web de manière automatisée; autrement dit, nous avons usé du webscrapping sur le site Indeed.com.\n",
    "\n",
    "   - NLP (Natural Language Processing):\n",
    "C'est une méthode à l’intersection du Machine Learning et de la linguistique ayant pour but d'extraire de l'information et une signification d’un contenu textuel. Nous l'avons utilisée ici pour effectuer de la detection des langues dans les commentaires, les wordclouds, l'analyse sentimentale ainsi que la detection des différentes aspects les plus abordés dans les commentaires (topic modeling)."
   ]
  },
  {
   "cell_type": "code",
   "execution_count": 301,
   "id": "c7078d55-a2f6-4237-a3b4-0404676dfa6d",
   "metadata": {},
   "outputs": [],
   "source": [
    "# Importation des packages utiles\n",
    "import pandas as pd\n",
    "import matplotlib.pyplot as plt\n",
    "import seaborn as sbn"
   ]
  },
  {
   "cell_type": "markdown",
   "id": "b28f91f8-782f-4e7b-b16a-a4e8fadcd56a",
   "metadata": {},
   "source": [
    "### TRAITEMENT DES DONNEES"
   ]
  },
  {
   "cell_type": "code",
   "execution_count": 302,
   "id": "fedaaa42-d69b-4601-b11a-94f46ef8635f",
   "metadata": {},
   "outputs": [],
   "source": [
    "# Importation de la base de données\n",
    "df = pd.read_csv(\"Database.csv\",sep=\",\")"
   ]
  },
  {
   "cell_type": "code",
   "execution_count": 303,
   "id": "6913d3c3-30fd-4828-b307-4d98f0323b3c",
   "metadata": {},
   "outputs": [
    {
     "name": "stdout",
     "output_type": "stream",
     "text": [
      "Il y a 2520 individus dans notre base de données.\n",
      "Index(['Country', 'rating', 'contract', 'is_employed', 'job', 'city', 'date',\n",
      "       'comment'],\n",
      "      dtype='object')\n"
     ]
    },
    {
     "data": {
      "text/html": [
       "<div>\n",
       "<style scoped>\n",
       "    .dataframe tbody tr th:only-of-type {\n",
       "        vertical-align: middle;\n",
       "    }\n",
       "\n",
       "    .dataframe tbody tr th {\n",
       "        vertical-align: top;\n",
       "    }\n",
       "\n",
       "    .dataframe thead th {\n",
       "        text-align: right;\n",
       "    }\n",
       "</style>\n",
       "<table border=\"1\" class=\"dataframe\">\n",
       "  <thead>\n",
       "    <tr style=\"text-align: right;\">\n",
       "      <th></th>\n",
       "      <th>Country</th>\n",
       "      <th>rating</th>\n",
       "      <th>contract</th>\n",
       "      <th>is_employed</th>\n",
       "      <th>job</th>\n",
       "      <th>city</th>\n",
       "      <th>date</th>\n",
       "      <th>comment</th>\n",
       "    </tr>\n",
       "  </thead>\n",
       "  <tbody>\n",
       "    <tr>\n",
       "      <th>1333</th>\n",
       "      <td>France</td>\n",
       "      <td>4.0</td>\n",
       "      <td>NaN</td>\n",
       "      <td>False</td>\n",
       "      <td>Asistente de Dirección</td>\n",
       "      <td>París</td>\n",
       "      <td>2017</td>\n",
       "      <td>Es una empresa grande de gran reputación. Estu...</td>\n",
       "    </tr>\n",
       "    <tr>\n",
       "      <th>319</th>\n",
       "      <td>France</td>\n",
       "      <td>4.0</td>\n",
       "      <td>NaN</td>\n",
       "      <td>True</td>\n",
       "      <td>Assistante Chef de projet Innovation</td>\n",
       "      <td>Colombes (92)</td>\n",
       "      <td>2020</td>\n",
       "      <td>RAS, bonne équipe qui rend l'environnement de ...</td>\n",
       "    </tr>\n",
       "    <tr>\n",
       "      <th>2120</th>\n",
       "      <td>US</td>\n",
       "      <td>4.0</td>\n",
       "      <td>NaN</td>\n",
       "      <td>True</td>\n",
       "      <td>VP, Analyses &amp; Tactical Development</td>\n",
       "      <td>New York, NY</td>\n",
       "      <td>2012</td>\n",
       "      <td>A very fast paced environment that that encour...</td>\n",
       "    </tr>\n",
       "  </tbody>\n",
       "</table>\n",
       "</div>"
      ],
      "text/plain": [
       "     Country  rating contract  is_employed  \\\n",
       "1333  France     4.0      NaN        False   \n",
       "319   France     4.0      NaN         True   \n",
       "2120      US     4.0      NaN         True   \n",
       "\n",
       "                                       job           city  date  \\\n",
       "1333                Asistente de Dirección          París  2017   \n",
       "319   Assistante Chef de projet Innovation  Colombes (92)  2020   \n",
       "2120   VP, Analyses & Tactical Development   New York, NY  2012   \n",
       "\n",
       "                                                comment  \n",
       "1333  Es una empresa grande de gran reputación. Estu...  \n",
       "319   RAS, bonne équipe qui rend l'environnement de ...  \n",
       "2120  A very fast paced environment that that encour...  "
      ]
     },
     "execution_count": 303,
     "metadata": {},
     "output_type": "execute_result"
    }
   ],
   "source": [
    "# Description de la base de données initiale\n",
    "print(\"Il y a\", len(df), \"individus dans notre base de données.\")\n",
    "print(df.columns)\n",
    "df.sample(3)"
   ]
  },
  {
   "cell_type": "code",
   "execution_count": 304,
   "id": "5b4ca596-5ae6-4966-a870-1052c0407bd6",
   "metadata": {},
   "outputs": [],
   "source": [
    "#Création d'une copie de la base\n",
    "df_new = df.copy()"
   ]
  },
  {
   "cell_type": "code",
   "execution_count": 305,
   "id": "b02c9a8c-dfd1-4b82-a5a3-5c964bb9ac1e",
   "metadata": {},
   "outputs": [],
   "source": [
    "#Remplacer True et False dans la  colonne is_employed du DataFrame par 1 et 0\n",
    "df_new['is_employed'] = df_new['is_employed'].replace([True], 1)\n",
    "df_new['is_employed'] = df_new['is_employed'].replace([False], 0)"
   ]
  },
  {
   "cell_type": "code",
   "execution_count": 306,
   "id": "75416f9f-fed5-4c12-96e6-7f2bd3c7d259",
   "metadata": {},
   "outputs": [
    {
     "name": "stdout",
     "output_type": "stream",
     "text": [
      "Country         object\n",
      "rating         float64\n",
      "contract        object\n",
      "is_employed      int64\n",
      "job             object\n",
      "city            object\n",
      "date             int64\n",
      "comment         object\n",
      "dtype: object\n"
     ]
    }
   ],
   "source": [
    "#Vérification types des variables\n",
    "print(df_new.dtypes)"
   ]
  },
  {
   "cell_type": "code",
   "execution_count": 307,
   "id": "9ea73e5e-7189-41d1-8b07-d6d5546f83f8",
   "metadata": {},
   "outputs": [
    {
     "data": {
      "text/plain": [
       "Country           3\n",
       "rating            5\n",
       "contract          3\n",
       "is_employed       2\n",
       "job            1706\n",
       "city            803\n",
       "date             11\n",
       "comment        2518\n",
       "dtype: int64"
      ]
     },
     "execution_count": 307,
     "metadata": {},
     "output_type": "execute_result"
    }
   ],
   "source": [
    "#Nombre de modalités pour chacune des variables\n",
    "df_new.nunique()"
   ]
  },
  {
   "cell_type": "code",
   "execution_count": 308,
   "id": "ef4b8ae7-9492-45a2-b62d-2b0613383bab",
   "metadata": {},
   "outputs": [
    {
     "data": {
      "text/plain": [
       "Country        2520\n",
       "rating         2520\n",
       "contract        237\n",
       "is_employed    2520\n",
       "job            2520\n",
       "city           2520\n",
       "date           2520\n",
       "comment        2520\n",
       "dtype: int64"
      ]
     },
     "execution_count": 308,
     "metadata": {},
     "output_type": "execute_result"
    }
   ],
   "source": [
    "#Vérification valeurs manquantes\n",
    "df_new.count()"
   ]
  },
  {
   "cell_type": "markdown",
   "id": "5e0e4b82-0afd-4e5f-b9ef-810b172a6ec8",
   "metadata": {},
   "source": [
    "La seule variable contenant des valeurs manquantes est \"contract\" avec seulement 237 valeurs renseignées; Un peu moins du dizième des personnes ont précisé le contrat dans leurs commentaires."
   ]
  },
  {
   "cell_type": "code",
   "execution_count": 309,
   "id": "4ba4f76f-4ea6-4a46-bf24-7be3b6cd6b71",
   "metadata": {},
   "outputs": [
    {
     "data": {
      "text/html": [
       "<div>\n",
       "<style scoped>\n",
       "    .dataframe tbody tr th:only-of-type {\n",
       "        vertical-align: middle;\n",
       "    }\n",
       "\n",
       "    .dataframe tbody tr th {\n",
       "        vertical-align: top;\n",
       "    }\n",
       "\n",
       "    .dataframe thead th {\n",
       "        text-align: right;\n",
       "    }\n",
       "</style>\n",
       "<table border=\"1\" class=\"dataframe\">\n",
       "  <thead>\n",
       "    <tr style=\"text-align: right;\">\n",
       "      <th></th>\n",
       "      <th>Country</th>\n",
       "      <th>rating</th>\n",
       "      <th>contract</th>\n",
       "      <th>is_employed</th>\n",
       "      <th>job</th>\n",
       "      <th>city</th>\n",
       "      <th>date</th>\n",
       "      <th>comment</th>\n",
       "    </tr>\n",
       "  </thead>\n",
       "  <tbody>\n",
       "    <tr>\n",
       "      <th>0</th>\n",
       "      <td>France</td>\n",
       "      <td>3.0</td>\n",
       "      <td>cdd</td>\n",
       "      <td>0</td>\n",
       "      <td>Conseillère clientèle</td>\n",
       "      <td>Massy</td>\n",
       "      <td>2022</td>\n",
       "      <td>Bonne équipe, dommage que la direction soit bl...</td>\n",
       "    </tr>\n",
       "    <tr>\n",
       "      <th>1</th>\n",
       "      <td>France</td>\n",
       "      <td>5.0</td>\n",
       "      <td>NaN</td>\n",
       "      <td>0</td>\n",
       "      <td>Responsable</td>\n",
       "      <td>Falaise</td>\n",
       "      <td>2022</td>\n",
       "      <td>Équipe au top, l'esprit d'équipe fait la force...</td>\n",
       "    </tr>\n",
       "    <tr>\n",
       "      <th>2</th>\n",
       "      <td>France</td>\n",
       "      <td>4.0</td>\n",
       "      <td>NaN</td>\n",
       "      <td>0</td>\n",
       "      <td>Compliance Officer</td>\n",
       "      <td>Nanterre</td>\n",
       "      <td>2022</td>\n",
       "      <td>bonne ambiance, bonne équipe, bon relationnel,...</td>\n",
       "    </tr>\n",
       "    <tr>\n",
       "      <th>3</th>\n",
       "      <td>France</td>\n",
       "      <td>5.0</td>\n",
       "      <td>NaN</td>\n",
       "      <td>0</td>\n",
       "      <td>Assistante administrative</td>\n",
       "      <td>Saint-Dié-des-Vosges</td>\n",
       "      <td>2022</td>\n",
       "      <td>Missions variées, solidarité dans l’équipe et ...</td>\n",
       "    </tr>\n",
       "    <tr>\n",
       "      <th>4</th>\n",
       "      <td>France</td>\n",
       "      <td>4.0</td>\n",
       "      <td>NaN</td>\n",
       "      <td>0</td>\n",
       "      <td>Chargée de communication</td>\n",
       "      <td>La Défense</td>\n",
       "      <td>2022</td>\n",
       "      <td>Première expérience professionnelle durant 3 a...</td>\n",
       "    </tr>\n",
       "  </tbody>\n",
       "</table>\n",
       "</div>"
      ],
      "text/plain": [
       "  Country  rating contract  is_employed                        job  \\\n",
       "0  France     3.0      cdd            0      Conseillère clientèle   \n",
       "1  France     5.0      NaN            0                Responsable   \n",
       "2  France     4.0      NaN            0         Compliance Officer   \n",
       "3  France     5.0      NaN            0  Assistante administrative   \n",
       "4  France     4.0      NaN            0   Chargée de communication   \n",
       "\n",
       "                    city  date  \\\n",
       "0                 Massy   2022   \n",
       "1                Falaise  2022   \n",
       "2              Nanterre   2022   \n",
       "3  Saint-Dié-des-Vosges   2022   \n",
       "4            La Défense   2022   \n",
       "\n",
       "                                             comment  \n",
       "0  Bonne équipe, dommage que la direction soit bl...  \n",
       "1  Équipe au top, l'esprit d'équipe fait la force...  \n",
       "2  bonne ambiance, bonne équipe, bon relationnel,...  \n",
       "3  Missions variées, solidarité dans l’équipe et ...  \n",
       "4  Première expérience professionnelle durant 3 a...  "
      ]
     },
     "execution_count": 309,
     "metadata": {},
     "output_type": "execute_result"
    }
   ],
   "source": [
    "#Suppression des codes postaux dans la colonne city \n",
    "characters = \")(1234567890\"\n",
    "df_new['city'] = df['city'].apply(lambda x: x.strip(characters))\n",
    "df_new.head()"
   ]
  },
  {
   "cell_type": "code",
   "execution_count": 310,
   "id": "02e04d53-5117-496b-9ed0-1b0e5e0677f6",
   "metadata": {},
   "outputs": [
    {
     "data": {
      "text/html": [
       "<div>\n",
       "<style scoped>\n",
       "    .dataframe tbody tr th:only-of-type {\n",
       "        vertical-align: middle;\n",
       "    }\n",
       "\n",
       "    .dataframe tbody tr th {\n",
       "        vertical-align: top;\n",
       "    }\n",
       "\n",
       "    .dataframe thead th {\n",
       "        text-align: right;\n",
       "    }\n",
       "</style>\n",
       "<table border=\"1\" class=\"dataframe\">\n",
       "  <thead>\n",
       "    <tr style=\"text-align: right;\">\n",
       "      <th></th>\n",
       "      <th>Country</th>\n",
       "      <th>rating</th>\n",
       "      <th>contract</th>\n",
       "      <th>is_employed</th>\n",
       "      <th>job</th>\n",
       "      <th>city</th>\n",
       "      <th>date</th>\n",
       "      <th>comment</th>\n",
       "    </tr>\n",
       "  </thead>\n",
       "  <tbody>\n",
       "    <tr>\n",
       "      <th>0</th>\n",
       "      <td>France</td>\n",
       "      <td>3.0</td>\n",
       "      <td>cdd</td>\n",
       "      <td>0</td>\n",
       "      <td>conseillère clientèle</td>\n",
       "      <td>massy</td>\n",
       "      <td>2022</td>\n",
       "      <td>bonne équipe, dommage que la direction soit bl...</td>\n",
       "    </tr>\n",
       "    <tr>\n",
       "      <th>1</th>\n",
       "      <td>France</td>\n",
       "      <td>5.0</td>\n",
       "      <td>NaN</td>\n",
       "      <td>0</td>\n",
       "      <td>responsable</td>\n",
       "      <td>falaise</td>\n",
       "      <td>2022</td>\n",
       "      <td>équipe au top, l'esprit d'équipe fait la force...</td>\n",
       "    </tr>\n",
       "    <tr>\n",
       "      <th>2</th>\n",
       "      <td>France</td>\n",
       "      <td>4.0</td>\n",
       "      <td>NaN</td>\n",
       "      <td>0</td>\n",
       "      <td>compliance officer</td>\n",
       "      <td>nanterre</td>\n",
       "      <td>2022</td>\n",
       "      <td>bonne ambiance, bonne équipe, bon relationnel,...</td>\n",
       "    </tr>\n",
       "    <tr>\n",
       "      <th>3</th>\n",
       "      <td>France</td>\n",
       "      <td>5.0</td>\n",
       "      <td>NaN</td>\n",
       "      <td>0</td>\n",
       "      <td>assistante administrative</td>\n",
       "      <td>saint-dié-des-vosges</td>\n",
       "      <td>2022</td>\n",
       "      <td>missions variées, solidarité dans l’équipe et ...</td>\n",
       "    </tr>\n",
       "    <tr>\n",
       "      <th>4</th>\n",
       "      <td>France</td>\n",
       "      <td>4.0</td>\n",
       "      <td>NaN</td>\n",
       "      <td>0</td>\n",
       "      <td>chargée de communication</td>\n",
       "      <td>la défense</td>\n",
       "      <td>2022</td>\n",
       "      <td>première expérience professionnelle durant 3 a...</td>\n",
       "    </tr>\n",
       "  </tbody>\n",
       "</table>\n",
       "</div>"
      ],
      "text/plain": [
       "  Country  rating contract  is_employed                        job  \\\n",
       "0  France     3.0      cdd            0      conseillère clientèle   \n",
       "1  France     5.0      NaN            0                responsable   \n",
       "2  France     4.0      NaN            0         compliance officer   \n",
       "3  France     5.0      NaN            0  assistante administrative   \n",
       "4  France     4.0      NaN            0   chargée de communication   \n",
       "\n",
       "                    city  date  \\\n",
       "0                 massy   2022   \n",
       "1                falaise  2022   \n",
       "2              nanterre   2022   \n",
       "3  saint-dié-des-vosges   2022   \n",
       "4            la défense   2022   \n",
       "\n",
       "                                             comment  \n",
       "0  bonne équipe, dommage que la direction soit bl...  \n",
       "1  équipe au top, l'esprit d'équipe fait la force...  \n",
       "2  bonne ambiance, bonne équipe, bon relationnel,...  \n",
       "3  missions variées, solidarité dans l’équipe et ...  \n",
       "4  première expérience professionnelle durant 3 a...  "
      ]
     },
     "execution_count": 310,
     "metadata": {},
     "output_type": "execute_result"
    }
   ],
   "source": [
    "#Ajustement de la police pour éviter les problèmes liés à la sensibilité à la casse.\n",
    "df_new['city'] = df_new['city'].apply(lambda x: x.lower())\n",
    "df_new['comment']=df_new['comment'].apply(lambda x: x.lower())\n",
    "df_new['job']=df_new['job'].apply(lambda x: x.lower())\n",
    "df_new.head()"
   ]
  },
  {
   "cell_type": "code",
   "execution_count": 311,
   "id": "ef125e4e-655c-41cd-9dcc-0f483e9e3bcb",
   "metadata": {},
   "outputs": [],
   "source": [
    "# Définition d'une fonction qui permettra de nettoyer nos données textuelles\n",
    "import re\n",
    "def clean(texte):\n",
    "    # Suppression des liens\n",
    "    for item in re.compile(\"http[s]?://(?:[a-zA-Z]|[0-9]|[$-_@.&+]|[!*\\(\\),]|(?:%[0-9a-fA-F][0-9a-fA-F]))+\").findall(texte):\n",
    "        texte=texte.replace(item, \"\")\n",
    "    # Suppression du retour à la ligne\n",
    "    texte = texte.replace(\"\\n\", \" \").replace(\"\\r\", \"\") \n",
    "    # Suppression des caractères \",\", \"!\", \"?\", \"%\", \"(\",\")\",\"/\",'\"', \"$\",\"£\", \"_\", \"-\", \"+\", \"*\", \"µ\", \":\",\"&,\"§\" \n",
    "    texte = re.sub(r\"[,\\!\\?\\%\\(\\)\\/\\\"\\$\\£\\+\\*\\µ,\\:\\&\\§]\", \" \", texte) \n",
    "    # Suppression des apostrophes '\n",
    "    for item in re.compile(\"([\\’])\").findall(texte):\n",
    "        texte=texte.replace(item, \" \")\n",
    "    for item in re.compile(\"([\\'])\").findall(texte):\n",
    "        texte=texte.replace(item, \" \")\n",
    "    # Suppression des points de suspension\n",
    "    for item in re.compile(\"([.]{1,5})\").findall(texte):\n",
    "        texte=texte.replace(item, \"\") \n",
    "    # Suppression des adresses mail\n",
    "    for item in re.findall('\\S+@\\S+', texte) :\n",
    "        texte=texte.replace(item, \"\")\n",
    "    # Suppression des mots contenant des chiffres\n",
    "    texte = re.sub(r\"[A-Za-z\\.]*[0-9]+[A-Za-z%°\\.]*\", \"\", texte)\n",
    "    # Diviser les mots attachés\n",
    "    texte = \" \".join([s for s in re.split(\"([A-Z][a-z]+[^A-Z]*)\",texte) if s])\n",
    "    return texte"
   ]
  },
  {
   "cell_type": "code",
   "execution_count": 312,
   "id": "1c2d51ef-71da-4c4e-8f45-7a5c1b061adf",
   "metadata": {},
   "outputs": [
    {
     "data": {
      "text/html": [
       "<div>\n",
       "<style scoped>\n",
       "    .dataframe tbody tr th:only-of-type {\n",
       "        vertical-align: middle;\n",
       "    }\n",
       "\n",
       "    .dataframe tbody tr th {\n",
       "        vertical-align: top;\n",
       "    }\n",
       "\n",
       "    .dataframe thead th {\n",
       "        text-align: right;\n",
       "    }\n",
       "</style>\n",
       "<table border=\"1\" class=\"dataframe\">\n",
       "  <thead>\n",
       "    <tr style=\"text-align: right;\">\n",
       "      <th></th>\n",
       "      <th>Country</th>\n",
       "      <th>rating</th>\n",
       "      <th>contract</th>\n",
       "      <th>is_employed</th>\n",
       "      <th>job</th>\n",
       "      <th>city</th>\n",
       "      <th>date</th>\n",
       "      <th>comment</th>\n",
       "      <th>clean_comment</th>\n",
       "      <th>clean_city</th>\n",
       "      <th>clean_job</th>\n",
       "    </tr>\n",
       "  </thead>\n",
       "  <tbody>\n",
       "    <tr>\n",
       "      <th>0</th>\n",
       "      <td>France</td>\n",
       "      <td>3.0</td>\n",
       "      <td>cdd</td>\n",
       "      <td>0</td>\n",
       "      <td>conseillère clientèle</td>\n",
       "      <td>massy</td>\n",
       "      <td>2022</td>\n",
       "      <td>bonne équipe, dommage que la direction soit bl...</td>\n",
       "      <td>bonne équipe  dommage que la direction soit bl...</td>\n",
       "      <td>massy</td>\n",
       "      <td>conseillère clientèle</td>\n",
       "    </tr>\n",
       "    <tr>\n",
       "      <th>1</th>\n",
       "      <td>France</td>\n",
       "      <td>5.0</td>\n",
       "      <td>NaN</td>\n",
       "      <td>0</td>\n",
       "      <td>responsable</td>\n",
       "      <td>falaise</td>\n",
       "      <td>2022</td>\n",
       "      <td>équipe au top, l'esprit d'équipe fait la force...</td>\n",
       "      <td>équipe au top  l esprit d équipe fait la force...</td>\n",
       "      <td>falaise</td>\n",
       "      <td>responsable</td>\n",
       "    </tr>\n",
       "    <tr>\n",
       "      <th>2</th>\n",
       "      <td>France</td>\n",
       "      <td>4.0</td>\n",
       "      <td>NaN</td>\n",
       "      <td>0</td>\n",
       "      <td>compliance officer</td>\n",
       "      <td>nanterre</td>\n",
       "      <td>2022</td>\n",
       "      <td>bonne ambiance, bonne équipe, bon relationnel,...</td>\n",
       "      <td>bonne ambiance  bonne équipe  bon relationnel ...</td>\n",
       "      <td>nanterre</td>\n",
       "      <td>compliance officer</td>\n",
       "    </tr>\n",
       "    <tr>\n",
       "      <th>3</th>\n",
       "      <td>France</td>\n",
       "      <td>5.0</td>\n",
       "      <td>NaN</td>\n",
       "      <td>0</td>\n",
       "      <td>assistante administrative</td>\n",
       "      <td>saint-dié-des-vosges</td>\n",
       "      <td>2022</td>\n",
       "      <td>missions variées, solidarité dans l’équipe et ...</td>\n",
       "      <td>missions variées  solidarité dans l équipe et ...</td>\n",
       "      <td>saint-dié-des-vosges</td>\n",
       "      <td>assistante administrative</td>\n",
       "    </tr>\n",
       "    <tr>\n",
       "      <th>4</th>\n",
       "      <td>France</td>\n",
       "      <td>4.0</td>\n",
       "      <td>NaN</td>\n",
       "      <td>0</td>\n",
       "      <td>chargée de communication</td>\n",
       "      <td>la défense</td>\n",
       "      <td>2022</td>\n",
       "      <td>première expérience professionnelle durant 3 a...</td>\n",
       "      <td>première expérience professionnelle durant  an...</td>\n",
       "      <td>la défense</td>\n",
       "      <td>chargée de communication</td>\n",
       "    </tr>\n",
       "  </tbody>\n",
       "</table>\n",
       "</div>"
      ],
      "text/plain": [
       "  Country  rating contract  is_employed                        job  \\\n",
       "0  France     3.0      cdd            0      conseillère clientèle   \n",
       "1  France     5.0      NaN            0                responsable   \n",
       "2  France     4.0      NaN            0         compliance officer   \n",
       "3  France     5.0      NaN            0  assistante administrative   \n",
       "4  France     4.0      NaN            0   chargée de communication   \n",
       "\n",
       "                    city  date  \\\n",
       "0                 massy   2022   \n",
       "1                falaise  2022   \n",
       "2              nanterre   2022   \n",
       "3  saint-dié-des-vosges   2022   \n",
       "4            la défense   2022   \n",
       "\n",
       "                                             comment  \\\n",
       "0  bonne équipe, dommage que la direction soit bl...   \n",
       "1  équipe au top, l'esprit d'équipe fait la force...   \n",
       "2  bonne ambiance, bonne équipe, bon relationnel,...   \n",
       "3  missions variées, solidarité dans l’équipe et ...   \n",
       "4  première expérience professionnelle durant 3 a...   \n",
       "\n",
       "                                       clean_comment             clean_city  \\\n",
       "0  bonne équipe  dommage que la direction soit bl...                 massy    \n",
       "1  équipe au top  l esprit d équipe fait la force...                falaise   \n",
       "2  bonne ambiance  bonne équipe  bon relationnel ...              nanterre    \n",
       "3  missions variées  solidarité dans l équipe et ...  saint-dié-des-vosges    \n",
       "4  première expérience professionnelle durant  an...            la défense    \n",
       "\n",
       "                   clean_job  \n",
       "0      conseillère clientèle  \n",
       "1                responsable  \n",
       "2         compliance officer  \n",
       "3  assistante administrative  \n",
       "4   chargée de communication  "
      ]
     },
     "execution_count": 312,
     "metadata": {},
     "output_type": "execute_result"
    }
   ],
   "source": [
    "df_new[\"clean_comment\"] = df_new[\"comment\"].apply(lambda x: clean(x))\n",
    "df_new[\"clean_city\"] = df_new[\"city\"].apply(lambda x: clean(x))\n",
    "df_new[\"clean_job\"] = df_new[\"job\"].apply(lambda x: clean(x))\n",
    "df_new.head()"
   ]
  },
  {
   "cell_type": "code",
   "execution_count": 334,
   "id": "98932b5a-3f60-443a-9056-60158d0c88c3",
   "metadata": {},
   "outputs": [
    {
     "name": "stdout",
     "output_type": "stream",
     "text": [
      " bonne opportunité pour un job d'été. contrat en intérim avec bonne rémunération et tickets resto. repas gratuits évaluez votre entreprise pour afficher tous les avis\n"
     ]
    }
   ],
   "source": [
    "#Nettoyer les commentaires\n",
    "b = \"Évaluez votre entreprise pour afficher tous les avis\".split()\n",
    "\n",
    "def nettoyer_f(texte) :\n",
    "  texte = texte.split()\n",
    "  temp= []\n",
    "  if len(texte) > 8 :\n",
    "    for i in range(8):\n",
    "      texte.pop()\n",
    "  phrase = ' '\n",
    "  for i in range(len(texte)):\n",
    "    phrase = phrase + ' ' + texte[i]\n",
    "  return phrase \n",
    "\n",
    "def nettoyer_a(texte):\n",
    "  texte = texte.split()\n",
    "  try : \n",
    "    texte.remove('Points')\n",
    "  except : \n",
    "    pass\n",
    "  try :\n",
    "    texte.remove('points')\n",
    "  except:\n",
    "    pass\n",
    "  try : \n",
    "    texte.remove('négatifs')\n",
    "  except :\n",
    "    pass\n",
    "  try :\n",
    "    texte.remove('positifs')\n",
    "  except :\n",
    "    pass\n",
    "  phrase = ''\n",
    "  for i in range(len(texte)):\n",
    "    phrase = phrase + ' ' + texte[i]\n",
    "  return phrase \n",
    "\n",
    "p = '''Première expérience professionnelle durant 3 ans. J'ai été ravie de grandir chez BBDF avec un environnement de travail très favorable bien que le rythme ait été soutenu.\n",
    "Points positifs\n",
    "Salaire, avantage, refectoire, évolution de carrière\n",
    "Évaluez votre entreprise pour afficher tous les avis'''\n",
    "\n",
    "s = '''bonne opportunité pour un job d'été. contrat en intérim avec bonne rémunération et tickets resto.\n",
    "points positifs\n",
    "repas gratuits\n",
    "évaluez votre entreprise pour afficher tous les avis\n",
    "'''\n",
    "\n",
    "print(nettoyer_a(s))\n",
    "\n",
    "  \n",
    "\n",
    "    "
   ]
  },
  {
   "cell_type": "code",
   "execution_count": 335,
   "id": "73f76f73",
   "metadata": {},
   "outputs": [],
   "source": [
    "df_new['comment'] = df_new['comment'].apply(lambda x : nettoyer_f(x))\n",
    "df_new['comment']=df_new['comment'].apply(lambda x : nettoyer_a(x))\n"
   ]
  },
  {
   "cell_type": "code",
   "execution_count": 315,
   "id": "3a02e8f6",
   "metadata": {},
   "outputs": [
    {
     "data": {
      "text/plain": [
       "[1, 2, 3, 4, 5, 6, 7, 8]"
      ]
     },
     "execution_count": 315,
     "metadata": {},
     "output_type": "execute_result"
    }
   ],
   "source": [
    "L = [0,1,2,3,4,5,6,7,8]\n",
    "L[1:]\n"
   ]
  },
  {
   "cell_type": "markdown",
   "id": "31328e2b-995f-4d74-abf5-4af8dc7fa861",
   "metadata": {},
   "source": [
    "### ANALYSE DESCRIPTIVE DES DONNEES"
   ]
  },
  {
   "cell_type": "markdown",
   "id": "be11ebea-f47c-4fe1-8d02-3ae83ec92f88",
   "metadata": {},
   "source": [
    "Notre base de données contient 2520 lignes qui représentent les individus et 8 colonnes qui sont nos variables que sont : **'country'** qui renferme le pays concerné (France, US ou Inde), **'rating'** qui renferme les notes attribuées (sur 5), **'contract'** pour le type de contrat(Stage, cdd, cdi),  **'is_employed'** qui prend la valeur 1 si l'individu travaille au sein de la SG au moment du commentaire et 0 sinon, **'job'** pour le poste occupé, **'city'** pour le lieu de travail (la ville) , **'date'** pour l'année de publication du commentaire et **'comment'** pour les commentaires."
   ]
  },
  {
   "cell_type": "code",
   "execution_count": 316,
   "id": "71192ebc-e39a-4af8-8b9d-257c109e3413",
   "metadata": {},
   "outputs": [
    {
     "data": {
      "text/plain": [
       "count    2520.000000\n",
       "mean        3.806746\n",
       "std         1.089283\n",
       "min         1.000000\n",
       "25%         3.000000\n",
       "50%         4.000000\n",
       "75%         5.000000\n",
       "max         5.000000\n",
       "Name: rating, dtype: float64"
      ]
     },
     "execution_count": 316,
     "metadata": {},
     "output_type": "execute_result"
    }
   ],
   "source": [
    "df_new['rating'].describe()"
   ]
  },
  {
   "cell_type": "markdown",
   "id": "6f6dc231-ba05-49a6-8555-25bf761c816c",
   "metadata": {},
   "source": [
    "La plus petite note attribuée est 1 et la plus grande est 5 (Evaluation sur 5). En moyenne, la SG est appréciée par ceux qui y ont travaillé (ou qui y travaillent) avec une note de  de 3,8.B "
   ]
  },
  {
   "cell_type": "code",
   "execution_count": 317,
   "id": "173ea9d5-1efd-4630-8644-5b0d75923d3b",
   "metadata": {},
   "outputs": [
    {
     "data": {
      "text/plain": [
       "4.0    985\n",
       "5.0    738\n",
       "3.0    501\n",
       "2.0    164\n",
       "1.0    132\n",
       "Name: rating, dtype: int64"
      ]
     },
     "execution_count": 317,
     "metadata": {},
     "output_type": "execute_result"
    }
   ],
   "source": [
    "#Effectifs pour chaque modalité de la variable rating \n",
    "df_new['rating'].value_counts()"
   ]
  },
  {
   "cell_type": "code",
   "execution_count": 318,
   "id": "a8637722-4e50-4493-9512-a16071e2fff3",
   "metadata": {},
   "outputs": [
    {
     "name": "stdout",
     "output_type": "stream",
     "text": [
      "237\n"
     ]
    },
    {
     "data": {
      "text/plain": [
       "stage    210\n",
       "cdd       21\n",
       "cdi        6\n",
       "Name: contract, dtype: int64"
      ]
     },
     "execution_count": 318,
     "metadata": {},
     "output_type": "execute_result"
    }
   ],
   "source": [
    "#Effectifs pour chaque modalité de la variable contract \n",
    "print(df_new['contract'].count())\n",
    "df_new['contract'].value_counts()"
   ]
  },
  {
   "cell_type": "markdown",
   "id": "658fc48a-5a7c-489d-b5fd-81726b483664",
   "metadata": {},
   "source": [
    "Seuls 237 individus de notre base ont précisé leur contrat de travail au sein de la SG et ce sont en grande majorité des stagiaires."
   ]
  },
  {
   "cell_type": "code",
   "execution_count": 319,
   "id": "303b1678-becd-422b-bda1-5c6cffb82b8a",
   "metadata": {},
   "outputs": [
    {
     "data": {
      "text/plain": [
       "0    1885\n",
       "1     635\n",
       "Name: is_employed, dtype: int64"
      ]
     },
     "execution_count": 319,
     "metadata": {},
     "output_type": "execute_result"
    }
   ],
   "source": [
    "#Effectifs pour chaque modalité de la variable is_employed\n",
    "df_new['is_employed'].value_counts()"
   ]
  },
  {
   "cell_type": "markdown",
   "id": "0a59cd17-a4a0-47e3-9605-80cb1d2a6e16",
   "metadata": {},
   "source": [
    "Les individus ne travaillant plus au sein de la SG au moment du commentaire sont trois fois plus nombreux que ceux en emploi à ce moment."
   ]
  },
  {
   "cell_type": "code",
   "execution_count": null,
   "id": "9cec6a7f-e282-41c1-ab51-ecb7c7894734",
   "metadata": {},
   "outputs": [],
   "source": []
  },
  {
   "cell_type": "markdown",
   "id": "e903cfc9-0d30-4670-a1d5-73b003a19dda",
   "metadata": {},
   "source": [
    "### VISUALISATION DES DONNEES"
   ]
  },
  {
   "cell_type": "code",
   "execution_count": null,
   "id": "d039bbf9-a74e-4861-adb4-df237b039726",
   "metadata": {},
   "outputs": [],
   "source": []
  },
  {
   "cell_type": "markdown",
   "id": "5d00a149-927e-46d0-a26c-db2cf6169d43",
   "metadata": {},
   "source": [
    "### NATURAL LANGUAGE PROCESSING (NLP)"
   ]
  },
  {
   "cell_type": "code",
   "execution_count": 320,
   "id": "404824fd-6916-4ec8-8c77-90a66c7e9de3",
   "metadata": {
    "tags": []
   },
   "outputs": [
    {
     "name": "stdout",
     "output_type": "stream",
     "text": [
      "Requirement already satisfied: langdetect in /Users/leorene/opt/anaconda3/lib/python3.9/site-packages (1.0.9)\n",
      "Requirement already satisfied: six in /Users/leorene/opt/anaconda3/lib/python3.9/site-packages (from langdetect) (1.16.0)\n",
      "Requirement already satisfied: wordcloud in /Users/leorene/opt/anaconda3/lib/python3.9/site-packages (1.8.2.2)\n",
      "Requirement already satisfied: matplotlib in /Users/leorene/opt/anaconda3/lib/python3.9/site-packages (from wordcloud) (3.5.1)\n",
      "Requirement already satisfied: pillow in /Users/leorene/opt/anaconda3/lib/python3.9/site-packages (from wordcloud) (9.0.1)\n",
      "Requirement already satisfied: numpy>=1.6.1 in /Users/leorene/opt/anaconda3/lib/python3.9/site-packages (from wordcloud) (1.21.5)\n",
      "Requirement already satisfied: pyparsing>=2.2.1 in /Users/leorene/opt/anaconda3/lib/python3.9/site-packages (from matplotlib->wordcloud) (3.0.4)\n",
      "Requirement already satisfied: fonttools>=4.22.0 in /Users/leorene/opt/anaconda3/lib/python3.9/site-packages (from matplotlib->wordcloud) (4.25.0)\n",
      "Requirement already satisfied: cycler>=0.10 in /Users/leorene/opt/anaconda3/lib/python3.9/site-packages (from matplotlib->wordcloud) (0.11.0)\n",
      "Requirement already satisfied: python-dateutil>=2.7 in /Users/leorene/opt/anaconda3/lib/python3.9/site-packages (from matplotlib->wordcloud) (2.8.2)\n",
      "Requirement already satisfied: kiwisolver>=1.0.1 in /Users/leorene/opt/anaconda3/lib/python3.9/site-packages (from matplotlib->wordcloud) (1.3.2)\n",
      "Requirement already satisfied: packaging>=20.0 in /Users/leorene/opt/anaconda3/lib/python3.9/site-packages (from matplotlib->wordcloud) (21.3)\n",
      "Requirement already satisfied: six>=1.5 in /Users/leorene/opt/anaconda3/lib/python3.9/site-packages (from python-dateutil>=2.7->matplotlib->wordcloud) (1.16.0)\n",
      "Requirement already satisfied: nltk in /Users/leorene/opt/anaconda3/lib/python3.9/site-packages (3.7)\n",
      "Requirement already satisfied: joblib in /Users/leorene/opt/anaconda3/lib/python3.9/site-packages (from nltk) (1.1.0)\n",
      "Requirement already satisfied: tqdm in /Users/leorene/opt/anaconda3/lib/python3.9/site-packages (from nltk) (4.64.0)\n",
      "Requirement already satisfied: click in /Users/leorene/opt/anaconda3/lib/python3.9/site-packages (from nltk) (8.0.4)\n",
      "Requirement already satisfied: regex>=2021.8.3 in /Users/leorene/opt/anaconda3/lib/python3.9/site-packages (from nltk) (2022.3.15)\n",
      "Requirement already satisfied: gensim in /Users/leorene/opt/anaconda3/lib/python3.9/site-packages (4.1.2)\n",
      "Requirement already satisfied: scipy>=0.18.1 in /Users/leorene/opt/anaconda3/lib/python3.9/site-packages (from gensim) (1.7.3)\n",
      "Requirement already satisfied: smart-open>=1.8.1 in /Users/leorene/opt/anaconda3/lib/python3.9/site-packages (from gensim) (5.1.0)\n",
      "Requirement already satisfied: numpy>=1.17.0 in /Users/leorene/opt/anaconda3/lib/python3.9/site-packages (from gensim) (1.21.5)\n",
      "Requirement already satisfied: vaderSentiment in /Users/leorene/opt/anaconda3/lib/python3.9/site-packages (3.3.2)\n",
      "Requirement already satisfied: requests in /Users/leorene/opt/anaconda3/lib/python3.9/site-packages (from vaderSentiment) (2.27.1)\n",
      "Requirement already satisfied: urllib3<1.27,>=1.21.1 in /Users/leorene/opt/anaconda3/lib/python3.9/site-packages (from requests->vaderSentiment) (1.26.9)\n",
      "Requirement already satisfied: idna<4,>=2.5 in /Users/leorene/opt/anaconda3/lib/python3.9/site-packages (from requests->vaderSentiment) (3.3)\n",
      "Requirement already satisfied: charset-normalizer~=2.0.0 in /Users/leorene/opt/anaconda3/lib/python3.9/site-packages (from requests->vaderSentiment) (2.0.4)\n",
      "Requirement already satisfied: certifi>=2017.4.17 in /Users/leorene/opt/anaconda3/lib/python3.9/site-packages (from requests->vaderSentiment) (2021.10.8)\n",
      "Requirement already satisfied: textblob in /Users/leorene/opt/anaconda3/lib/python3.9/site-packages (0.17.1)\n",
      "Requirement already satisfied: nltk>=3.1 in /Users/leorene/opt/anaconda3/lib/python3.9/site-packages (from textblob) (3.7)\n",
      "Requirement already satisfied: tqdm in /Users/leorene/opt/anaconda3/lib/python3.9/site-packages (from nltk>=3.1->textblob) (4.64.0)\n",
      "Requirement already satisfied: joblib in /Users/leorene/opt/anaconda3/lib/python3.9/site-packages (from nltk>=3.1->textblob) (1.1.0)\n",
      "Requirement already satisfied: regex>=2021.8.3 in /Users/leorene/opt/anaconda3/lib/python3.9/site-packages (from nltk>=3.1->textblob) (2022.3.15)\n",
      "Requirement already satisfied: click in /Users/leorene/opt/anaconda3/lib/python3.9/site-packages (from nltk>=3.1->textblob) (8.0.4)\n",
      "Requirement already satisfied: vaderSentiment-fr in /Users/leorene/opt/anaconda3/lib/python3.9/site-packages (1.3.4)\n",
      "Requirement already satisfied: fuzzywuzzy in /Users/leorene/opt/anaconda3/lib/python3.9/site-packages (from vaderSentiment-fr) (0.18.0)\n",
      "Requirement already satisfied: unidecode in /Users/leorene/opt/anaconda3/lib/python3.9/site-packages (from vaderSentiment-fr) (1.2.0)\n",
      "Requirement already satisfied: deep-translator in /Users/leorene/opt/anaconda3/lib/python3.9/site-packages (1.9.1)\n",
      "Requirement already satisfied: requests<3.0.0,>=2.23.0 in /Users/leorene/opt/anaconda3/lib/python3.9/site-packages (from deep-translator) (2.27.1)\n",
      "Requirement already satisfied: beautifulsoup4<5.0.0,>=4.9.1 in /Users/leorene/opt/anaconda3/lib/python3.9/site-packages (from deep-translator) (4.11.1)\n",
      "Requirement already satisfied: soupsieve>1.2 in /Users/leorene/opt/anaconda3/lib/python3.9/site-packages (from beautifulsoup4<5.0.0,>=4.9.1->deep-translator) (2.3.1)\n",
      "Requirement already satisfied: certifi>=2017.4.17 in /Users/leorene/opt/anaconda3/lib/python3.9/site-packages (from requests<3.0.0,>=2.23.0->deep-translator) (2021.10.8)\n",
      "Requirement already satisfied: idna<4,>=2.5 in /Users/leorene/opt/anaconda3/lib/python3.9/site-packages (from requests<3.0.0,>=2.23.0->deep-translator) (3.3)\n",
      "Requirement already satisfied: urllib3<1.27,>=1.21.1 in /Users/leorene/opt/anaconda3/lib/python3.9/site-packages (from requests<3.0.0,>=2.23.0->deep-translator) (1.26.9)\n",
      "Requirement already satisfied: charset-normalizer~=2.0.0 in /Users/leorene/opt/anaconda3/lib/python3.9/site-packages (from requests<3.0.0,>=2.23.0->deep-translator) (2.0.4)\n",
      "Requirement already satisfied: yellowbrick in /Users/leorene/opt/anaconda3/lib/python3.9/site-packages (1.5)\n",
      "Requirement already satisfied: scikit-learn>=1.0.0 in /Users/leorene/opt/anaconda3/lib/python3.9/site-packages (from yellowbrick) (1.0.2)\n",
      "Requirement already satisfied: scipy>=1.0.0 in /Users/leorene/opt/anaconda3/lib/python3.9/site-packages (from yellowbrick) (1.7.3)\n",
      "Requirement already satisfied: numpy>=1.16.0 in /Users/leorene/opt/anaconda3/lib/python3.9/site-packages (from yellowbrick) (1.21.5)\n",
      "Requirement already satisfied: cycler>=0.10.0 in /Users/leorene/opt/anaconda3/lib/python3.9/site-packages (from yellowbrick) (0.11.0)\n",
      "Requirement already satisfied: matplotlib!=3.0.0,>=2.0.2 in /Users/leorene/opt/anaconda3/lib/python3.9/site-packages (from yellowbrick) (3.5.1)\n",
      "Requirement already satisfied: fonttools>=4.22.0 in /Users/leorene/opt/anaconda3/lib/python3.9/site-packages (from matplotlib!=3.0.0,>=2.0.2->yellowbrick) (4.25.0)\n",
      "Requirement already satisfied: packaging>=20.0 in /Users/leorene/opt/anaconda3/lib/python3.9/site-packages (from matplotlib!=3.0.0,>=2.0.2->yellowbrick) (21.3)\n",
      "Requirement already satisfied: pillow>=6.2.0 in /Users/leorene/opt/anaconda3/lib/python3.9/site-packages (from matplotlib!=3.0.0,>=2.0.2->yellowbrick) (9.0.1)\n",
      "Requirement already satisfied: kiwisolver>=1.0.1 in /Users/leorene/opt/anaconda3/lib/python3.9/site-packages (from matplotlib!=3.0.0,>=2.0.2->yellowbrick) (1.3.2)\n",
      "Requirement already satisfied: pyparsing>=2.2.1 in /Users/leorene/opt/anaconda3/lib/python3.9/site-packages (from matplotlib!=3.0.0,>=2.0.2->yellowbrick) (3.0.4)\n",
      "Requirement already satisfied: python-dateutil>=2.7 in /Users/leorene/opt/anaconda3/lib/python3.9/site-packages (from matplotlib!=3.0.0,>=2.0.2->yellowbrick) (2.8.2)\n",
      "Requirement already satisfied: six>=1.5 in /Users/leorene/opt/anaconda3/lib/python3.9/site-packages (from python-dateutil>=2.7->matplotlib!=3.0.0,>=2.0.2->yellowbrick) (1.16.0)\n",
      "Requirement already satisfied: threadpoolctl>=2.0.0 in /Users/leorene/opt/anaconda3/lib/python3.9/site-packages (from scikit-learn>=1.0.0->yellowbrick) (2.2.0)\n",
      "Requirement already satisfied: joblib>=0.11 in /Users/leorene/opt/anaconda3/lib/python3.9/site-packages (from scikit-learn>=1.0.0->yellowbrick) (1.1.0)\n"
     ]
    }
   ],
   "source": [
    "#Installation des packages nécessaires\n",
    "\n",
    "!pip install langdetect \n",
    "!pip install wordcloud\n",
    "!pip install nltk\n",
    "!pip install  gensim\n",
    "!pip install vaderSentiment\n",
    "!pip install textblob\n",
    "!pip install vaderSentiment-fr\n",
    "!pip install deep-translator\n",
    "!pip install yellowbrick"
   ]
  },
  {
   "cell_type": "code",
   "execution_count": 321,
   "id": "984e5739-c236-4bd7-b59e-0e73d949a441",
   "metadata": {},
   "outputs": [
    {
     "name": "stderr",
     "output_type": "stream",
     "text": [
      "[nltk_data] Downloading package stopwords to\n",
      "[nltk_data]     /Users/leorene/nltk_data...\n",
      "[nltk_data]   Package stopwords is already up-to-date!\n",
      "[nltk_data] Downloading package punkt to /Users/leorene/nltk_data...\n",
      "[nltk_data]   Package punkt is already up-to-date!\n",
      "[nltk_data] Downloading package vader_lexicon to\n",
      "[nltk_data]     /Users/leorene/nltk_data...\n",
      "[nltk_data]   Package vader_lexicon is already up-to-date!\n"
     ]
    }
   ],
   "source": [
    "#Importation des librairies nécessaires\n",
    "\n",
    "from langdetect import detect # pour détecter les langues\n",
    "import sklearn as sk\n",
    "from wordcloud import WordCloud # pour gérer les nuages de mots\n",
    "from deep_translator import GoogleTranslator \n",
    "\n",
    "#stopword français\n",
    "import nltk\n",
    "from nltk.corpus import stopwords \n",
    "nltk.download('stopwords') \n",
    "\n",
    "# stopword anglais\n",
    "import gensim \n",
    "from gensim.parsing.preprocessing import STOPWORDS \n",
    "\n",
    "#from gensim import corpora\n",
    "\n",
    "from PIL import Image # pour personaliser la forme du wordcloud\n",
    "\n",
    "# Pour l'analyse des sentiments\n",
    "nltk.download('punkt')\n",
    "nltk.download('vader_lexicon')\n",
    "from nltk.sentiment.vader import SentimentIntensityAnalyzer as SenEN\n",
    "analyzer = SenEN()\n",
    "\n",
    "#Pour les classements des mots les plus fréquents\n",
    "from sklearn.feature_extraction.text import CountVectorizer\n",
    "from yellowbrick.text.freqdist import FreqDistVisualizer\n",
    "from yellowbrick.style import set_palette"
   ]
  },
  {
   "cell_type": "markdown",
   "id": "a5d572d0-3965-4358-a167-354b3582a882",
   "metadata": {},
   "source": [
    "#### Détection des langues"
   ]
  },
  {
   "cell_type": "code",
   "execution_count": 322,
   "id": "1a54cc3f-48ac-4790-9a7b-2a15d60afdad",
   "metadata": {},
   "outputs": [],
   "source": [
    "# Fonction pour détecter les langues utilisées\n",
    "def language_detection(text):\n",
    "    try:\n",
    "        return detect(text)\n",
    "    except:\n",
    "        return None\n"
   ]
  },
  {
   "cell_type": "code",
   "execution_count": 323,
   "id": "e60b593c-1a12-4248-b5c5-fb872cf676a9",
   "metadata": {},
   "outputs": [
    {
     "name": "stdout",
     "output_type": "stream",
     "text": [
      "Les commentaires sont rédigés en 7 langues\n"
     ]
    },
    {
     "data": {
      "text/plain": [
       "fr    1735\n",
       "en     774\n",
       "es       5\n",
       "pt       3\n",
       "it       1\n",
       "tr       1\n",
       "da       1\n",
       "Name: langues, dtype: int64"
      ]
     },
     "execution_count": 323,
     "metadata": {},
     "output_type": "execute_result"
    }
   ],
   "source": [
    "df_new['langues']=df_new['comment'].apply(language_detection)\n",
    "print(f\"Les commentaires sont rédigés en {len(df_new.langues.unique())} langues\")\n",
    "df_new['langues'].value_counts()\n"
   ]
  },
  {
   "cell_type": "code",
   "execution_count": 324,
   "id": "a14505d8-7531-47d0-80f5-879b73299a5c",
   "metadata": {},
   "outputs": [],
   "source": [
    "#Fonction pour nettoyer les stopword en francais \n",
    "from nltk.corpus import stopwords\n",
    "french_stopwords = set(stopwords.words('french'))\n",
    "filtre_stopfr =  lambda text: [token for token in text if token.lower() not in french_stopwords]\n",
    "#Fonction pour nettoyer les stopword en anglais \n",
    "english_stopwords = set(stopwords.words('english'))\n",
    "filtre_stopen =  lambda text: [token for token in text if token.lower() not in english_stopwords]\n",
    "\n"
   ]
  },
  {
   "cell_type": "code",
   "execution_count": 325,
   "metadata": {},
   "outputs": [
    {
     "data": {
      "text/plain": [
       "fr    1735\n",
       "en     774\n",
       "it       1\n",
       "da       1\n",
       "Name: langues, dtype: int64"
      ]
     },
     "execution_count": 325,
     "metadata": {},
     "output_type": "execute_result"
    }
   ],
   "source": [
    "#Reindexer le tabeleau avec une colonne ID\n",
    "\n",
    "df_new['ID']= df_new.index\n",
    "df.head()\n",
    "\n",
    "#Supprimer les ligne ou langue n'est pas francais et anglais\n",
    "L = [\"es\",\"pt\",\"no\",\"sl\",\"tr\"]\n",
    "for i in L :\n",
    "    df_new.drop(df_new[df_new['langues']==i].index,inplace =True)\n",
    "\n",
    "df_new['langues'].value_counts()"
   ]
  },
  {
   "cell_type": "code",
   "execution_count": 336,
   "id": "47586c85",
   "metadata": {},
   "outputs": [
    {
     "name": "stdout",
     "output_type": "stream",
     "text": [
      " bonne opportunité pour un job d'été. contrat en intérim avec bonne rémunération et tickets resto. repas gratuits\n"
     ]
    }
   ],
   "source": [
    "print(df_new.loc[7][7])"
   ]
  },
  {
   "cell_type": "code",
   "execution_count": 338,
   "id": "27c91903",
   "metadata": {},
   "outputs": [
    {
     "name": "stderr",
     "output_type": "stream",
     "text": [
      "/var/folders/m6/sxy0ncwd4ds4g30hyjcd6p0h0000gn/T/ipykernel_55223/3979816680.py:5: SettingWithCopyWarning: \n",
      "A value is trying to be set on a copy of a slice from a DataFrame.\n",
      "Try using .loc[row_indexer,col_indexer] = value instead\n",
      "\n",
      "See the caveats in the documentation: https://pandas.pydata.org/pandas-docs/stable/user_guide/indexing.html#returning-a-view-versus-a-copy\n",
      "  dfen['ID']=dfen.index\n"
     ]
    }
   ],
   "source": [
    "# tableaux avec que les commentaires en anglais \n",
    "\n",
    "dfen = df_new[df_new['langues']=='en']\n",
    "dfen.reset_index()\n",
    "dfen['ID']=dfen.index\n"
   ]
  },
  {
   "cell_type": "code",
   "execution_count": 340,
   "id": "acfcfb8e",
   "metadata": {},
   "outputs": [
    {
     "data": {
      "application/vnd.jupyter.widget-view+json": {
       "model_id": "7948fa58e9664eebacda309aae8b8815",
       "version_major": 2,
       "version_minor": 0
      },
      "text/plain": [
       "  0%|          | 0/774 [00:00<?, ?it/s]"
      ]
     },
     "metadata": {},
     "output_type": "display_data"
    },
    {
     "data": {
      "text/html": [
       "<div>\n",
       "<style scoped>\n",
       "    .dataframe tbody tr th:only-of-type {\n",
       "        vertical-align: middle;\n",
       "    }\n",
       "\n",
       "    .dataframe tbody tr th {\n",
       "        vertical-align: top;\n",
       "    }\n",
       "\n",
       "    .dataframe thead th {\n",
       "        text-align: right;\n",
       "    }\n",
       "</style>\n",
       "<table border=\"1\" class=\"dataframe\">\n",
       "  <thead>\n",
       "    <tr style=\"text-align: right;\">\n",
       "      <th></th>\n",
       "      <th>neg</th>\n",
       "      <th>neu</th>\n",
       "      <th>pos</th>\n",
       "      <th>compound</th>\n",
       "      <th>ID</th>\n",
       "      <th>Country</th>\n",
       "      <th>rating</th>\n",
       "      <th>contract</th>\n",
       "      <th>is_employed</th>\n",
       "      <th>job</th>\n",
       "      <th>city</th>\n",
       "      <th>date</th>\n",
       "      <th>comment</th>\n",
       "      <th>clean_comment</th>\n",
       "      <th>clean_city</th>\n",
       "      <th>clean_job</th>\n",
       "      <th>langues</th>\n",
       "    </tr>\n",
       "  </thead>\n",
       "  <tbody>\n",
       "    <tr>\n",
       "      <th>0</th>\n",
       "      <td>0.000</td>\n",
       "      <td>0.437</td>\n",
       "      <td>0.563</td>\n",
       "      <td>0.8910</td>\n",
       "      <td>103</td>\n",
       "      <td>France</td>\n",
       "      <td>4.0</td>\n",
       "      <td>stage</td>\n",
       "      <td>1</td>\n",
       "      <td>internal communication trainee</td>\n",
       "      <td>paris</td>\n",
       "      <td>2022</td>\n",
       "      <td>good relations in the teams, kind and attenti...</td>\n",
       "      <td>good relations in the teams  kind and attentiv...</td>\n",
       "      <td>paris</td>\n",
       "      <td>internal communication trainee</td>\n",
       "      <td>en</td>\n",
       "    </tr>\n",
       "    <tr>\n",
       "      <th>1</th>\n",
       "      <td>0.000</td>\n",
       "      <td>0.667</td>\n",
       "      <td>0.333</td>\n",
       "      <td>0.9552</td>\n",
       "      <td>218</td>\n",
       "      <td>France</td>\n",
       "      <td>5.0</td>\n",
       "      <td>NaN</td>\n",
       "      <td>0</td>\n",
       "      <td>contracts manager</td>\n",
       "      <td>la défense, paris</td>\n",
       "      <td>2021</td>\n",
       "      <td>french leader in derivative products, societe...</td>\n",
       "      <td>french leader in derivative products  societe ...</td>\n",
       "      <td>la défense  paris</td>\n",
       "      <td>contracts manager</td>\n",
       "      <td>en</td>\n",
       "    </tr>\n",
       "    <tr>\n",
       "      <th>2</th>\n",
       "      <td>0.035</td>\n",
       "      <td>0.599</td>\n",
       "      <td>0.366</td>\n",
       "      <td>0.9670</td>\n",
       "      <td>251</td>\n",
       "      <td>France</td>\n",
       "      <td>4.0</td>\n",
       "      <td>NaN</td>\n",
       "      <td>0</td>\n",
       "      <td>dealer service support coordinator</td>\n",
       "      <td>service centre</td>\n",
       "      <td>2020</td>\n",
       "      <td>great place to work, management are supportiv...</td>\n",
       "      <td>great place to work  management are supportive...</td>\n",
       "      <td>service centre</td>\n",
       "      <td>dealer service support coordinator</td>\n",
       "      <td>en</td>\n",
       "    </tr>\n",
       "    <tr>\n",
       "      <th>3</th>\n",
       "      <td>0.032</td>\n",
       "      <td>0.874</td>\n",
       "      <td>0.094</td>\n",
       "      <td>0.4317</td>\n",
       "      <td>260</td>\n",
       "      <td>France</td>\n",
       "      <td>4.0</td>\n",
       "      <td>NaN</td>\n",
       "      <td>0</td>\n",
       "      <td>trade finance officer</td>\n",
       "      <td>paris, france</td>\n",
       "      <td>2020</td>\n",
       "      <td>good balance between personal life and job. i...</td>\n",
       "      <td>good balance between personal life and job int...</td>\n",
       "      <td>paris  france</td>\n",
       "      <td>trade finance officer</td>\n",
       "      <td>en</td>\n",
       "    </tr>\n",
       "    <tr>\n",
       "      <th>4</th>\n",
       "      <td>0.195</td>\n",
       "      <td>0.781</td>\n",
       "      <td>0.024</td>\n",
       "      <td>-0.9223</td>\n",
       "      <td>383</td>\n",
       "      <td>France</td>\n",
       "      <td>1.0</td>\n",
       "      <td>NaN</td>\n",
       "      <td>0</td>\n",
       "      <td>recouvrement</td>\n",
       "      <td>clichy</td>\n",
       "      <td>2020</td>\n",
       "      <td>very poor management, our team leader was pic...</td>\n",
       "      <td>very poor management  our team leader was pick...</td>\n",
       "      <td>clichy</td>\n",
       "      <td>recouvrement</td>\n",
       "      <td>en</td>\n",
       "    </tr>\n",
       "    <tr>\n",
       "      <th>...</th>\n",
       "      <td>...</td>\n",
       "      <td>...</td>\n",
       "      <td>...</td>\n",
       "      <td>...</td>\n",
       "      <td>...</td>\n",
       "      <td>...</td>\n",
       "      <td>...</td>\n",
       "      <td>...</td>\n",
       "      <td>...</td>\n",
       "      <td>...</td>\n",
       "      <td>...</td>\n",
       "      <td>...</td>\n",
       "      <td>...</td>\n",
       "      <td>...</td>\n",
       "      <td>...</td>\n",
       "      <td>...</td>\n",
       "      <td>...</td>\n",
       "    </tr>\n",
       "    <tr>\n",
       "      <th>769</th>\n",
       "      <td>0.000</td>\n",
       "      <td>0.538</td>\n",
       "      <td>0.462</td>\n",
       "      <td>0.8225</td>\n",
       "      <td>2515</td>\n",
       "      <td>Indie</td>\n",
       "      <td>4.0</td>\n",
       "      <td>NaN</td>\n",
       "      <td>1</td>\n",
       "      <td>business analyst</td>\n",
       "      <td>bangalore, ka</td>\n",
       "      <td>2012</td>\n",
       "      <td>a good working environment with good work-lif...</td>\n",
       "      <td>a good working environment with good work-life...</td>\n",
       "      <td>bangalore  ka</td>\n",
       "      <td>business analyst</td>\n",
       "      <td>en</td>\n",
       "    </tr>\n",
       "    <tr>\n",
       "      <th>770</th>\n",
       "      <td>0.000</td>\n",
       "      <td>0.833</td>\n",
       "      <td>0.167</td>\n",
       "      <td>0.3400</td>\n",
       "      <td>2516</td>\n",
       "      <td>Indie</td>\n",
       "      <td>5.0</td>\n",
       "      <td>NaN</td>\n",
       "      <td>1</td>\n",
       "      <td>auditor</td>\n",
       "      <td>mumbai</td>\n",
       "      <td>2012</td>\n",
       "      <td>sa 8000, ems &amp; social audits bpp audits in di...</td>\n",
       "      <td>sa   ems   social audits bpp audits in diamond...</td>\n",
       "      <td>mumbai</td>\n",
       "      <td>auditor</td>\n",
       "      <td>en</td>\n",
       "    </tr>\n",
       "    <tr>\n",
       "      <th>771</th>\n",
       "      <td>0.000</td>\n",
       "      <td>0.517</td>\n",
       "      <td>0.483</td>\n",
       "      <td>0.4215</td>\n",
       "      <td>2517</td>\n",
       "      <td>Indie</td>\n",
       "      <td>5.0</td>\n",
       "      <td>NaN</td>\n",
       "      <td>0</td>\n",
       "      <td>software engineer</td>\n",
       "      <td>bangalore, ka</td>\n",
       "      <td>2012</td>\n",
       "      <td>nice banking bussiness. had</td>\n",
       "      <td>nice banking bussiness had a great time workin...</td>\n",
       "      <td>bangalore  ka</td>\n",
       "      <td>software engineer</td>\n",
       "      <td>en</td>\n",
       "    </tr>\n",
       "    <tr>\n",
       "      <th>772</th>\n",
       "      <td>0.000</td>\n",
       "      <td>0.654</td>\n",
       "      <td>0.346</td>\n",
       "      <td>0.8126</td>\n",
       "      <td>2518</td>\n",
       "      <td>Indie</td>\n",
       "      <td>5.0</td>\n",
       "      <td>NaN</td>\n",
       "      <td>0</td>\n",
       "      <td>software engineer</td>\n",
       "      <td>bangalore, ka</td>\n",
       "      <td>2012</td>\n",
       "      <td>this is a euro bank and i had great fun in le...</td>\n",
       "      <td>this is a euro bank and i had great fun in lea...</td>\n",
       "      <td>bangalore  ka</td>\n",
       "      <td>software engineer</td>\n",
       "      <td>en</td>\n",
       "    </tr>\n",
       "    <tr>\n",
       "      <th>773</th>\n",
       "      <td>0.000</td>\n",
       "      <td>0.606</td>\n",
       "      <td>0.394</td>\n",
       "      <td>0.8445</td>\n",
       "      <td>2519</td>\n",
       "      <td>Indie</td>\n",
       "      <td>5.0</td>\n",
       "      <td>NaN</td>\n",
       "      <td>0</td>\n",
       "      <td>module lead</td>\n",
       "      <td>bangalore</td>\n",
       "      <td>2012</td>\n",
       "      <td>very nice place to work with.good managers an...</td>\n",
       "      <td>very nice place to work withgood managers and ...</td>\n",
       "      <td>bangalore</td>\n",
       "      <td>module lead</td>\n",
       "      <td>en</td>\n",
       "    </tr>\n",
       "  </tbody>\n",
       "</table>\n",
       "<p>774 rows × 17 columns</p>\n",
       "</div>"
      ],
      "text/plain": [
       "       neg    neu    pos  compound    ID Country  rating contract  \\\n",
       "0    0.000  0.437  0.563    0.8910   103  France     4.0    stage   \n",
       "1    0.000  0.667  0.333    0.9552   218  France     5.0      NaN   \n",
       "2    0.035  0.599  0.366    0.9670   251  France     4.0      NaN   \n",
       "3    0.032  0.874  0.094    0.4317   260  France     4.0      NaN   \n",
       "4    0.195  0.781  0.024   -0.9223   383  France     1.0      NaN   \n",
       "..     ...    ...    ...       ...   ...     ...     ...      ...   \n",
       "769  0.000  0.538  0.462    0.8225  2515   Indie     4.0      NaN   \n",
       "770  0.000  0.833  0.167    0.3400  2516   Indie     5.0      NaN   \n",
       "771  0.000  0.517  0.483    0.4215  2517   Indie     5.0      NaN   \n",
       "772  0.000  0.654  0.346    0.8126  2518   Indie     5.0      NaN   \n",
       "773  0.000  0.606  0.394    0.8445  2519   Indie     5.0      NaN   \n",
       "\n",
       "     is_employed                                 job               city  date  \\\n",
       "0              1      internal communication trainee             paris   2022   \n",
       "1              0                   contracts manager  la défense, paris  2021   \n",
       "2              0  dealer service support coordinator     service centre  2020   \n",
       "3              0               trade finance officer      paris, france  2020   \n",
       "4              0                        recouvrement             clichy  2020   \n",
       "..           ...                                 ...                ...   ...   \n",
       "769            1                    business analyst      bangalore, ka  2012   \n",
       "770            1                             auditor             mumbai  2012   \n",
       "771            0                   software engineer      bangalore, ka  2012   \n",
       "772            0                   software engineer      bangalore, ka  2012   \n",
       "773            0                         module lead          bangalore  2012   \n",
       "\n",
       "                                               comment  \\\n",
       "0     good relations in the teams, kind and attenti...   \n",
       "1     french leader in derivative products, societe...   \n",
       "2     great place to work, management are supportiv...   \n",
       "3     good balance between personal life and job. i...   \n",
       "4     very poor management, our team leader was pic...   \n",
       "..                                                 ...   \n",
       "769   a good working environment with good work-lif...   \n",
       "770   sa 8000, ems & social audits bpp audits in di...   \n",
       "771                        nice banking bussiness. had   \n",
       "772   this is a euro bank and i had great fun in le...   \n",
       "773   very nice place to work with.good managers an...   \n",
       "\n",
       "                                         clean_comment         clean_city  \\\n",
       "0    good relations in the teams  kind and attentiv...             paris    \n",
       "1    french leader in derivative products  societe ...  la défense  paris   \n",
       "2    great place to work  management are supportive...     service centre   \n",
       "3    good balance between personal life and job int...      paris  france   \n",
       "4    very poor management  our team leader was pick...             clichy   \n",
       "..                                                 ...                ...   \n",
       "769  a good working environment with good work-life...      bangalore  ka   \n",
       "770  sa   ems   social audits bpp audits in diamond...             mumbai   \n",
       "771  nice banking bussiness had a great time workin...      bangalore  ka   \n",
       "772  this is a euro bank and i had great fun in lea...      bangalore  ka   \n",
       "773  very nice place to work withgood managers and ...          bangalore   \n",
       "\n",
       "                              clean_job langues  \n",
       "0        internal communication trainee      en  \n",
       "1                     contracts manager      en  \n",
       "2    dealer service support coordinator      en  \n",
       "3                 trade finance officer      en  \n",
       "4                          recouvrement      en  \n",
       "..                                  ...     ...  \n",
       "769                    business analyst      en  \n",
       "770                             auditor      en  \n",
       "771                   software engineer      en  \n",
       "772                   software engineer      en  \n",
       "773                         module lead      en  \n",
       "\n",
       "[774 rows x 17 columns]"
      ]
     },
     "execution_count": 340,
     "metadata": {},
     "output_type": "execute_result"
    }
   ],
   "source": [
    "#Analise NLP\n",
    "from tqdm.notebook import tqdm\n",
    "\n",
    "sia = SenEN()\n",
    "res = {}\n",
    "for i , rows in tqdm(dfen.iterrows(), total = len(dfen)):\n",
    "    texte = rows['comment']\n",
    "    myid = rows['ID']\n",
    "    res[myid]= sia.polarity_scores(texte)\n",
    "\n",
    "vaders = pd.DataFrame(res).T\n",
    "vaders.reset_index()\n",
    "vaders['ID']= vaders.index\n",
    "vaders.merge(dfen,how='left')\n",
    "\n",
    "\n"
   ]
  }
 ],
 "metadata": {
  "kernelspec": {
   "display_name": "Python 3 (ipykernel)",
   "language": "python",
   "name": "python3"
  },
  "language_info": {
   "codemirror_mode": {
    "name": "ipython",
    "version": 3
   },
   "file_extension": ".py",
   "mimetype": "text/x-python",
   "name": "python",
   "nbconvert_exporter": "python",
   "pygments_lexer": "ipython3",
   "version": "3.10.4"
  }
 },
 "nbformat": 4,
 "nbformat_minor": 5
}
