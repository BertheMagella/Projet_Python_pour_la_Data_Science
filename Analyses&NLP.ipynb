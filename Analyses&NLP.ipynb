{
 "cells": [
  {
   "cell_type": "markdown",
   "id": "817359c9-1fef-461b-baed-8afe3630f842",
   "metadata": {},
   "source": [
    "# PROJET PYTHON POUR LA DATA SCIENCE 2022\n",
    "\n",
    "# THEME : ANALYSE DES AVIS DES STAGIAIRES ET EMPLOYES DE SOCIETE GENERALE TRANSMIS VIA LA PLATEFORME INDEED.COM ENTRE 2012 ET 2022  \n",
    "\n",
    "## Auteurs:\n",
    "* TALEB AHMED Raja\n",
    "* MAGAJIE WAMSA Berthe Magella\n",
    "* RENE Léo\n",
    "\n",
    "## ANALYSE DE DONNEES ET NATURAL LANGUAGE PROCESSING (NLP)\n",
    "\n",
    "### INTRODUCTION\n",
    "\n",
    "  ### Contexte et Justification du projet\n",
    "\n",
    "  Société Générale est l'un des tout premiers groupes européens de services financiers et acteur important de l’économie depuis plus de 150 ans. Au quotidien, 25 millions de clients sont accompagnés grâce à ses plus de 117 000 collaborateurs répartis dans 66 pays. Le groupe Société Générale se positionne en partenaire de confiance pour ses clients, engagé dans le développement durable de l’Afrique, ou bien encore pour l'accompagnement de la transition écologique mondiale. Quatre principales valeurs y sont partagées selon le site officiel du groupe : Esprit d’équipe, Innovation, Responsabilité, Engagement (https://www.societegenerale.com/fr/le-groupe-societe-generale/identite/presentation).  \n",
    "  \n",
    "  L’ENSAE Paris a noué des partenariats structurants avec des entreprises visant à améliorer leur visibilité auprès des élèves et à favoriser l’émergence des projets communs. Société Générale fait partie de ces partenaires prestigeux. Avec plus de 600 métiers dans le monde, l’entreprise recrute en effet des talents dans de nombreux secteurs : risques, IT, data, consulting interne, etc. Pour les étudiants ou jeunes diplômés curieux et motivés par les défis d’une grande banque, il s'agirait du cadre adéquat; aussi, sa promesse est d'offrir à tout employé un environnement dans lequel il s'épanouie en développant son potentiel (https://www.ensae.fr/entreprises/devenir-partenaire-de-lensae-paris/nos-partenaires).\n",
    "  \n",
    "  Indeed est une plateforme de recherche d'emplois qui permet aux employeurs de publier des offres et aux personnes en quête d'emplois de postuler; aussi des avis sur les entreprises y sont transmis, faisant office de retour d'expérience. Ces avis, s'ils sont bien exploités, peuvent être utiles non seulement aux chercheurs d'emplois dans leur quête, mais aussi aux entreprises pour l'amélioration du quotidien de leurs employés. \n",
    "\n",
    "  ### Objectifs\n",
    "  \n",
    "L'objectif général de ce projet est d'évaluer la Société Générale au travers des retours d'expériences et avis de ceux qui y ont travaillé et ceux qui y travaillent encore. Plus spécifiquement, il s'agit de:\n",
    "   * Décrire les avis transmis sur Indeed selon plusieurs critères;\n",
    "   * Présenter un niveau d'appréciation global;\n",
    "   * Ressortir les préoccupations les plus fréquentes;\n",
    "   * Analyser les potentiels facteurs qui influencent le niveau d'appréciation des employés et stagiaires. \n",
    "\n",
    "  ### Méthodologie du projet\n",
    "\n",
    "Afin d'atteindre les objectifs énoncés ci-dessus, nous avons utilisé les méthodes suivantes:\n",
    "\n",
    "   - Web-Scrapping :\n",
    "Pour constituer notre base de données, nous avons extrait des données structurées sur le Web de manière automatisée; autrement dit, nous avons usé du webscrapping sur le site Indeed.com.\n",
    "\n",
    "   - NLP (Natural Language Processing):\n",
    "C'est une méthode à l’intersection du Machine Learning et de la linguistique ayant pour but d'extraire de l'information et une signification d’un contenu textuel. Nous l'avons utilisée ici pour effectuer de la detection des langues dans les commentaires, les wordclouds, l'analyse sentimentale ainsi que la detection des différentes aspects les plus abordés dans les commentaires (topic modeling).\n",
    "\n",
    "\n",
    "\n",
    "### ANALYSE DESCRIPTIVE DES DONNEES"
   ]
  },
  {
   "cell_type": "code",
   "execution_count": 4,
   "id": "c7078d55-a2f6-4237-a3b4-0404676dfa6d",
   "metadata": {},
   "outputs": [],
   "source": [
    "# Importation des packages utiles\n",
    "import pandas as pd\n",
    "import matplotlib.pyplot as plt\n",
    "import seaborn as sbn"
   ]
  },
  {
   "cell_type": "code",
   "execution_count": 5,
   "id": "6fd3fdd7-3c03-466f-a9e4-fd8990af703a",
   "metadata": {},
   "outputs": [],
   "source": [
    "# Importation de la base de données\n",
    "df = pd.read_csv(\"Database.csv\",sep=\",\")"
   ]
  },
  {
   "cell_type": "code",
   "execution_count": 38,
   "id": "6913d3c3-30fd-4828-b307-4d98f0323b3c",
   "metadata": {},
   "outputs": [
    {
     "name": "stdout",
     "output_type": "stream",
     "text": [
      "Il y a 2520 individus dans notre base de données.\n",
      "Index(['Country', 'rating', 'contract', 'is_employed', 'job', 'city', 'date',\n",
      "       'comment', 'langues'],\n",
      "      dtype='object')\n"
     ]
    },
    {
     "data": {
      "text/html": [
       "<div>\n",
       "<style scoped>\n",
       "    .dataframe tbody tr th:only-of-type {\n",
       "        vertical-align: middle;\n",
       "    }\n",
       "\n",
       "    .dataframe tbody tr th {\n",
       "        vertical-align: top;\n",
       "    }\n",
       "\n",
       "    .dataframe thead th {\n",
       "        text-align: right;\n",
       "    }\n",
       "</style>\n",
       "<table border=\"1\" class=\"dataframe\">\n",
       "  <thead>\n",
       "    <tr style=\"text-align: right;\">\n",
       "      <th></th>\n",
       "      <th>Country</th>\n",
       "      <th>rating</th>\n",
       "      <th>contract</th>\n",
       "      <th>is_employed</th>\n",
       "      <th>job</th>\n",
       "      <th>city</th>\n",
       "      <th>date</th>\n",
       "      <th>comment</th>\n",
       "      <th>langues</th>\n",
       "    </tr>\n",
       "  </thead>\n",
       "  <tbody>\n",
       "    <tr>\n",
       "      <th>204</th>\n",
       "      <td>France</td>\n",
       "      <td>4.0</td>\n",
       "      <td>stage</td>\n",
       "      <td>0</td>\n",
       "      <td>Stage Juriste Contentieux</td>\n",
       "      <td>Cergy</td>\n",
       "      <td>2021</td>\n",
       "      <td>Très belle expérience avec les collaborateurs....</td>\n",
       "      <td>fr</td>\n",
       "    </tr>\n",
       "    <tr>\n",
       "      <th>1905</th>\n",
       "      <td>US</td>\n",
       "      <td>1.0</td>\n",
       "      <td>NaN</td>\n",
       "      <td>1</td>\n",
       "      <td>IT Manager</td>\n",
       "      <td>New york, ny</td>\n",
       "      <td>2019</td>\n",
       "      <td>You can learn many things like other companies...</td>\n",
       "      <td>en</td>\n",
       "    </tr>\n",
       "    <tr>\n",
       "      <th>1410</th>\n",
       "      <td>France</td>\n",
       "      <td>3.0</td>\n",
       "      <td>NaN</td>\n",
       "      <td>0</td>\n",
       "      <td>Chargé d'accueil</td>\n",
       "      <td>Vaugirard</td>\n",
       "      <td>2016</td>\n",
       "      <td>Environnement de travail agréable, une équipe ...</td>\n",
       "      <td>fr</td>\n",
       "    </tr>\n",
       "  </tbody>\n",
       "</table>\n",
       "</div>"
      ],
      "text/plain": [
       "     Country  rating contract  is_employed                        job  \\\n",
       "204   France     4.0    stage            0  Stage Juriste Contentieux   \n",
       "1905      US     1.0      NaN            1                 IT Manager   \n",
       "1410  France     3.0      NaN            0           Chargé d'accueil   \n",
       "\n",
       "              city  date                                            comment  \\\n",
       "204         Cergy   2021  Très belle expérience avec les collaborateurs....   \n",
       "1905  New york, ny  2019  You can learn many things like other companies...   \n",
       "1410    Vaugirard   2016  Environnement de travail agréable, une équipe ...   \n",
       "\n",
       "     langues  \n",
       "204       fr  \n",
       "1905      en  \n",
       "1410      fr  "
      ]
     },
     "execution_count": 38,
     "metadata": {},
     "output_type": "execute_result"
    }
   ],
   "source": [
    "# Description de la base de données\n",
    "print(\"Il y a\", len(df), \"individus dans notre base de données.\")\n",
    "print(df.columns)\n",
    "df.sample(3)"
   ]
  },
  {
   "cell_type": "markdown",
   "id": "be11ebea-f47c-4fe1-8d02-3ae83ec92f88",
   "metadata": {},
   "source": [
    "Notre base de données contient 2520 lignes qui représentent les individus et 8 colonnes qui sont nos variables que sont : **'country'** qui renferme le pays concerné (France, US ou Inde), **'rating'** qui renferme les notes attribuées (sur 5), **'contract'** pour le type de contrat(Stage, cdd, cdi),  **'is_employed'** qui prend la valeur 1 si l'individu travaille au sein de la SG au moment du commentaire et 0 sinon, **'job'** pour le poste occupé, **'city'** pour le lieu de travail (la ville) , **'date'** pour l'année de publication du commentaire et **'comment'** pour les commentaires."
   ]
  },
  {
   "cell_type": "code",
   "execution_count": 11,
   "id": "71192ebc-e39a-4af8-8b9d-257c109e3413",
   "metadata": {},
   "outputs": [
    {
     "data": {
      "text/plain": [
       "count    2520.000000\n",
       "mean        3.806746\n",
       "std         1.089283\n",
       "min         1.000000\n",
       "25%         3.000000\n",
       "50%         4.000000\n",
       "75%         5.000000\n",
       "max         5.000000\n",
       "Name: rating, dtype: float64"
      ]
     },
     "execution_count": 11,
     "metadata": {},
     "output_type": "execute_result"
    }
   ],
   "source": [
    "df['rating'].describe()"
   ]
  },
  {
   "cell_type": "markdown",
   "id": "6f6dc231-ba05-49a6-8555-25bf761c816c",
   "metadata": {},
   "source": [
    "La plus petite note attribuée est 1 et la plus grande est 5 (Evaluation sur 5). En moyenne, la SG est appréciée par ceux qui y ont travaillé (ou qui y travaillent) avec une note de  de 3,8.B "
   ]
  },
  {
   "cell_type": "code",
   "execution_count": 17,
   "id": "173ea9d5-1efd-4630-8644-5b0d75923d3b",
   "metadata": {},
   "outputs": [
    {
     "data": {
      "text/plain": [
       "4.0    985\n",
       "5.0    738\n",
       "3.0    501\n",
       "2.0    164\n",
       "1.0    132\n",
       "Name: rating, dtype: int64"
      ]
     },
     "execution_count": 17,
     "metadata": {},
     "output_type": "execute_result"
    }
   ],
   "source": [
    "#Effectifs pour chaque modalité de la variable rating \n",
    "df['rating'].value_counts()"
   ]
  },
  {
   "cell_type": "code",
   "execution_count": 20,
   "id": "a8637722-4e50-4493-9512-a16071e2fff3",
   "metadata": {},
   "outputs": [
    {
     "name": "stdout",
     "output_type": "stream",
     "text": [
      "237\n"
     ]
    },
    {
     "data": {
      "text/plain": [
       "stage    210\n",
       "cdd       21\n",
       "cdi        6\n",
       "Name: contract, dtype: int64"
      ]
     },
     "execution_count": 20,
     "metadata": {},
     "output_type": "execute_result"
    }
   ],
   "source": [
    "#Effectifs pour chaque modalité de la variable contract \n",
    "print(df['contract'].count())\n",
    "df['contract'].value_counts()"
   ]
  },
  {
   "cell_type": "markdown",
   "id": "658fc48a-5a7c-489d-b5fd-81726b483664",
   "metadata": {},
   "source": [
    "Seuls 237 individus de notre base ont précisé leur contrat de travail au sein de la SG et ce sont en grande majorité des stagiaires."
   ]
  },
  {
   "cell_type": "code",
   "execution_count": 42,
   "id": "303b1678-becd-422b-bda1-5c6cffb82b8a",
   "metadata": {},
   "outputs": [
    {
     "data": {
      "text/plain": [
       "0    1885\n",
       "1     635\n",
       "Name: is_employed, dtype: int64"
      ]
     },
     "execution_count": 42,
     "metadata": {},
     "output_type": "execute_result"
    }
   ],
   "source": [
    "#Effectifs pour chaque modalité de la variable is_employed\n",
    "df['is_employed'].value_counts()"
   ]
  },
  {
   "cell_type": "markdown",
   "id": "0a59cd17-a4a0-47e3-9605-80cb1d2a6e16",
   "metadata": {},
   "source": [
    "Les individus ne travaillant plus au sein de la SG au moment du commentaire sont trois fois plus nombreux que ceux en emploi à ce moment."
   ]
  },
  {
   "cell_type": "code",
   "execution_count": 45,
   "id": "6d5c72c5-1fef-40b5-9813-38463098356f",
   "metadata": {},
   "outputs": [
    {
     "ename": "ValueError",
     "evalue": "Cannot mask with non-boolean array containing NA / NaN values",
     "output_type": "error",
     "traceback": [
      "\u001b[0;31m---------------------------------------------------------------------------\u001b[0m",
      "\u001b[0;31mValueError\u001b[0m                                Traceback (most recent call last)",
      "Cell \u001b[0;32mIn [45], line 2\u001b[0m\n\u001b[1;32m      1\u001b[0m df[df\u001b[38;5;241m.\u001b[39mcity \u001b[38;5;241m==\u001b[39m \u001b[38;5;124m'\u001b[39m\u001b[38;5;124mCergy\u001b[39m\u001b[38;5;124m'\u001b[39m]\n\u001b[0;32m----> 2\u001b[0m \u001b[43mdf\u001b[49m\u001b[43m[\u001b[49m\u001b[43mdf\u001b[49m\u001b[38;5;241;43m.\u001b[39;49m\u001b[43mcity\u001b[49m\u001b[38;5;241;43m.\u001b[39;49m\u001b[43mstr\u001b[49m\u001b[38;5;241;43m.\u001b[39;49m\u001b[43mcontains\u001b[49m\u001b[43m(\u001b[49m\u001b[38;5;124;43m'\u001b[39;49m\u001b[38;5;124;43mNew\u001b[39;49m\u001b[38;5;124;43m'\u001b[39;49m\u001b[43m)\u001b[49m\u001b[43m]\u001b[49m\u001b[38;5;241m.\u001b[39mhead(\u001b[38;5;241m10\u001b[39m)\n",
      "File \u001b[0;32m/opt/mamba/lib/python3.10/site-packages/pandas/core/frame.py:3794\u001b[0m, in \u001b[0;36mDataFrame.__getitem__\u001b[0;34m(self, key)\u001b[0m\n\u001b[1;32m   3791\u001b[0m     \u001b[38;5;28;01mreturn\u001b[39;00m \u001b[38;5;28mself\u001b[39m\u001b[38;5;241m.\u001b[39mwhere(key)\n\u001b[1;32m   3793\u001b[0m \u001b[38;5;66;03m# Do we have a (boolean) 1d indexer?\u001b[39;00m\n\u001b[0;32m-> 3794\u001b[0m \u001b[38;5;28;01mif\u001b[39;00m \u001b[43mcom\u001b[49m\u001b[38;5;241;43m.\u001b[39;49m\u001b[43mis_bool_indexer\u001b[49m\u001b[43m(\u001b[49m\u001b[43mkey\u001b[49m\u001b[43m)\u001b[49m:\n\u001b[1;32m   3795\u001b[0m     \u001b[38;5;28;01mreturn\u001b[39;00m \u001b[38;5;28mself\u001b[39m\u001b[38;5;241m.\u001b[39m_getitem_bool_array(key)\n\u001b[1;32m   3797\u001b[0m \u001b[38;5;66;03m# We are left with two options: a single key, and a collection of keys,\u001b[39;00m\n\u001b[1;32m   3798\u001b[0m \u001b[38;5;66;03m# We interpret tuples as collections only for non-MultiIndex\u001b[39;00m\n",
      "File \u001b[0;32m/opt/mamba/lib/python3.10/site-packages/pandas/core/common.py:135\u001b[0m, in \u001b[0;36mis_bool_indexer\u001b[0;34m(key)\u001b[0m\n\u001b[1;32m    131\u001b[0m     na_msg \u001b[38;5;241m=\u001b[39m \u001b[38;5;124m\"\u001b[39m\u001b[38;5;124mCannot mask with non-boolean array containing NA / NaN values\u001b[39m\u001b[38;5;124m\"\u001b[39m\n\u001b[1;32m    132\u001b[0m     \u001b[38;5;28;01mif\u001b[39;00m lib\u001b[38;5;241m.\u001b[39minfer_dtype(key_array) \u001b[38;5;241m==\u001b[39m \u001b[38;5;124m\"\u001b[39m\u001b[38;5;124mboolean\u001b[39m\u001b[38;5;124m\"\u001b[39m \u001b[38;5;129;01mand\u001b[39;00m isna(key_array)\u001b[38;5;241m.\u001b[39many():\n\u001b[1;32m    133\u001b[0m         \u001b[38;5;66;03m# Don't raise on e.g. [\"A\", \"B\", np.nan], see\u001b[39;00m\n\u001b[1;32m    134\u001b[0m         \u001b[38;5;66;03m#  test_loc_getitem_list_of_labels_categoricalindex_with_na\u001b[39;00m\n\u001b[0;32m--> 135\u001b[0m         \u001b[38;5;28;01mraise\u001b[39;00m \u001b[38;5;167;01mValueError\u001b[39;00m(na_msg)\n\u001b[1;32m    136\u001b[0m     \u001b[38;5;28;01mreturn\u001b[39;00m \u001b[38;5;28;01mFalse\u001b[39;00m\n\u001b[1;32m    137\u001b[0m \u001b[38;5;28;01mreturn\u001b[39;00m \u001b[38;5;28;01mTrue\u001b[39;00m\n",
      "\u001b[0;31mValueError\u001b[0m: Cannot mask with non-boolean array containing NA / NaN values"
     ]
    }
   ],
   "source": [
    "df[df.city == 'Cergy']\n",
    "df[df.city.str.contains('New')].head(10)"
   ]
  },
  {
   "cell_type": "code",
   "execution_count": null,
   "id": "9cec6a7f-e282-41c1-ab51-ecb7c7894734",
   "metadata": {},
   "outputs": [],
   "source": []
  },
  {
   "cell_type": "code",
   "execution_count": null,
   "id": "ca7656a2-bcf5-4c52-b36b-0be24914145f",
   "metadata": {},
   "outputs": [],
   "source": []
  },
  {
   "cell_type": "markdown",
   "id": "e903cfc9-0d30-4670-a1d5-73b003a19dda",
   "metadata": {},
   "source": [
    "### VISUALISATION DES DONNEES"
   ]
  },
  {
   "cell_type": "code",
   "execution_count": null,
   "id": "d039bbf9-a74e-4861-adb4-df237b039726",
   "metadata": {},
   "outputs": [],
   "source": []
  },
  {
   "cell_type": "code",
   "execution_count": null,
   "id": "71d34ed7-3250-404e-83d1-3cbc05c939a7",
   "metadata": {},
   "outputs": [],
   "source": []
  },
  {
   "cell_type": "code",
   "execution_count": null,
   "id": "8efda6df-e60c-4646-a100-04798fea342f",
   "metadata": {},
   "outputs": [],
   "source": []
  },
  {
   "cell_type": "code",
   "execution_count": null,
   "id": "82fca8f5-d912-4a8b-ae07-2100422c793d",
   "metadata": {},
   "outputs": [],
   "source": []
  },
  {
   "cell_type": "markdown",
   "id": "5d00a149-927e-46d0-a26c-db2cf6169d43",
   "metadata": {},
   "source": [
    "### NATURAL LANGUAGE PROCESSING (NLP)"
   ]
  },
  {
   "cell_type": "code",
   "execution_count": 30,
   "id": "404824fd-6916-4ec8-8c77-90a66c7e9de3",
   "metadata": {
    "collapsed": true,
    "jupyter": {
     "outputs_hidden": true
    },
    "tags": []
   },
   "outputs": [
    {
     "name": "stdout",
     "output_type": "stream",
     "text": [
      "Collecting langdetect\n",
      "  Downloading langdetect-1.0.9.tar.gz (981 kB)\n",
      "\u001b[2K     \u001b[90m━━━━━━━━━━━━━━━━━━━━━━━━━━━━━━━━━━━━━━\u001b[0m \u001b[32m981.5/981.5 kB\u001b[0m \u001b[31m20.8 MB/s\u001b[0m eta \u001b[36m0:00:00\u001b[0ma \u001b[36m0:00:01\u001b[0m\n",
      "\u001b[?25h  Preparing metadata (setup.py) ... \u001b[?25ldone\n",
      "\u001b[?25hRequirement already satisfied: six in /opt/mamba/lib/python3.10/site-packages (from langdetect) (1.16.0)\n",
      "Building wheels for collected packages: langdetect\n",
      "  Building wheel for langdetect (setup.py) ... \u001b[?25ldone\n",
      "\u001b[?25h  Created wheel for langdetect: filename=langdetect-1.0.9-py3-none-any.whl size=993225 sha256=97b5576bfa6fef97b8fd7c192e310f0424067462bfb8f993a34c6a0695430f1f\n",
      "  Stored in directory: /home/onyxia/.cache/pip/wheels/c4/16/af/1889804d8b7c0c041cadee8e29673a938a332acbf2865c70a1\n",
      "Successfully built langdetect\n",
      "Installing collected packages: langdetect\n",
      "Successfully installed langdetect-1.0.9\n",
      "Collecting wordcloud\n",
      "  Downloading wordcloud-1.8.2.2-cp310-cp310-manylinux_2_17_x86_64.manylinux2014_x86_64.whl (458 kB)\n",
      "\u001b[2K     \u001b[90m━━━━━━━━━━━━━━━━━━━━━━━━━━━━━━━━━━━━━━\u001b[0m \u001b[32m458.9/458.9 kB\u001b[0m \u001b[31m12.3 MB/s\u001b[0m eta \u001b[36m0:00:00\u001b[0m00:01\u001b[0m\n",
      "\u001b[?25hRequirement already satisfied: numpy>=1.6.1 in /opt/mamba/lib/python3.10/site-packages (from wordcloud) (1.23.5)\n",
      "Requirement already satisfied: matplotlib in /opt/mamba/lib/python3.10/site-packages (from wordcloud) (3.6.2)\n",
      "Requirement already satisfied: pillow in /opt/mamba/lib/python3.10/site-packages (from wordcloud) (9.2.0)\n",
      "Requirement already satisfied: python-dateutil>=2.7 in /opt/mamba/lib/python3.10/site-packages (from matplotlib->wordcloud) (2.8.2)\n",
      "Requirement already satisfied: cycler>=0.10 in /opt/mamba/lib/python3.10/site-packages (from matplotlib->wordcloud) (0.11.0)\n",
      "Requirement already satisfied: contourpy>=1.0.1 in /opt/mamba/lib/python3.10/site-packages (from matplotlib->wordcloud) (1.0.6)\n",
      "Requirement already satisfied: packaging>=20.0 in /opt/mamba/lib/python3.10/site-packages (from matplotlib->wordcloud) (21.3)\n",
      "Requirement already satisfied: pyparsing>=2.2.1 in /opt/mamba/lib/python3.10/site-packages (from matplotlib->wordcloud) (3.0.9)\n",
      "Requirement already satisfied: kiwisolver>=1.0.1 in /opt/mamba/lib/python3.10/site-packages (from matplotlib->wordcloud) (1.4.4)\n",
      "Requirement already satisfied: fonttools>=4.22.0 in /opt/mamba/lib/python3.10/site-packages (from matplotlib->wordcloud) (4.38.0)\n",
      "Requirement already satisfied: six>=1.5 in /opt/mamba/lib/python3.10/site-packages (from python-dateutil>=2.7->matplotlib->wordcloud) (1.16.0)\n",
      "Installing collected packages: wordcloud\n",
      "Successfully installed wordcloud-1.8.2.2\n",
      "Requirement already satisfied: nltk in /opt/mamba/lib/python3.10/site-packages (3.7)\n",
      "Requirement already satisfied: click in /opt/mamba/lib/python3.10/site-packages (from nltk) (8.1.3)\n",
      "Requirement already satisfied: joblib in /opt/mamba/lib/python3.10/site-packages (from nltk) (1.2.0)\n",
      "Requirement already satisfied: tqdm in /opt/mamba/lib/python3.10/site-packages (from nltk) (4.64.1)\n",
      "Requirement already satisfied: regex>=2021.8.3 in /opt/mamba/lib/python3.10/site-packages (from nltk) (2022.10.31)\n",
      "Requirement already satisfied: gensim in /opt/mamba/lib/python3.10/site-packages (4.2.0)\n",
      "Requirement already satisfied: scipy>=0.18.1 in /opt/mamba/lib/python3.10/site-packages (from gensim) (1.9.3)\n",
      "Requirement already satisfied: numpy>=1.17.0 in /opt/mamba/lib/python3.10/site-packages (from gensim) (1.23.5)\n",
      "Requirement already satisfied: smart-open>=1.8.1 in /opt/mamba/lib/python3.10/site-packages (from gensim) (6.2.0)\n",
      "Collecting vaderSentiment\n",
      "  Downloading vaderSentiment-3.3.2-py2.py3-none-any.whl (125 kB)\n",
      "\u001b[2K     \u001b[90m━━━━━━━━━━━━━━━━━━━━━━━━━━━━━━━━━━━━━━━\u001b[0m \u001b[32m126.0/126.0 kB\u001b[0m \u001b[31m6.1 MB/s\u001b[0m eta \u001b[36m0:00:00\u001b[0m\n",
      "\u001b[?25hRequirement already satisfied: requests in /opt/mamba/lib/python3.10/site-packages (from vaderSentiment) (2.28.1)\n",
      "Requirement already satisfied: charset-normalizer<3,>=2 in /opt/mamba/lib/python3.10/site-packages (from requests->vaderSentiment) (2.1.1)\n",
      "Requirement already satisfied: idna<4,>=2.5 in /opt/mamba/lib/python3.10/site-packages (from requests->vaderSentiment) (3.4)\n",
      "Requirement already satisfied: urllib3<1.27,>=1.21.1 in /opt/mamba/lib/python3.10/site-packages (from requests->vaderSentiment) (1.26.11)\n",
      "Requirement already satisfied: certifi>=2017.4.17 in /opt/mamba/lib/python3.10/site-packages (from requests->vaderSentiment) (2022.9.24)\n",
      "Installing collected packages: vaderSentiment\n",
      "Successfully installed vaderSentiment-3.3.2\n",
      "Collecting textblob\n",
      "  Downloading textblob-0.17.1-py2.py3-none-any.whl (636 kB)\n",
      "\u001b[2K     \u001b[90m━━━━━━━━━━━━━━━━━━━━━━━━━━━━━━━━━━━━━━\u001b[0m \u001b[32m636.8/636.8 kB\u001b[0m \u001b[31m13.5 MB/s\u001b[0m eta \u001b[36m0:00:00\u001b[0ma \u001b[36m0:00:01\u001b[0m\n",
      "\u001b[?25hRequirement already satisfied: nltk>=3.1 in /opt/mamba/lib/python3.10/site-packages (from textblob) (3.7)\n",
      "Requirement already satisfied: click in /opt/mamba/lib/python3.10/site-packages (from nltk>=3.1->textblob) (8.1.3)\n",
      "Requirement already satisfied: joblib in /opt/mamba/lib/python3.10/site-packages (from nltk>=3.1->textblob) (1.2.0)\n",
      "Requirement already satisfied: tqdm in /opt/mamba/lib/python3.10/site-packages (from nltk>=3.1->textblob) (4.64.1)\n",
      "Requirement already satisfied: regex>=2021.8.3 in /opt/mamba/lib/python3.10/site-packages (from nltk>=3.1->textblob) (2022.10.31)\n",
      "Installing collected packages: textblob\n",
      "Successfully installed textblob-0.17.1\n",
      "Collecting vaderSentiment-fr\n",
      "  Downloading vaderSentiment_fr-1.3.4.tar.gz (187 kB)\n",
      "\u001b[2K     \u001b[90m━━━━━━━━━━━━━━━━━━━━━━━━━━━━━━━━━━━━━━━\u001b[0m \u001b[32m187.1/187.1 kB\u001b[0m \u001b[31m7.9 MB/s\u001b[0m eta \u001b[36m0:00:00\u001b[0m\n",
      "\u001b[?25h  Preparing metadata (setup.py) ... \u001b[?25ldone\n",
      "\u001b[?25hCollecting unidecode\n",
      "  Downloading Unidecode-1.3.6-py3-none-any.whl (235 kB)\n",
      "\u001b[2K     \u001b[90m━━━━━━━━━━━━━━━━━━━━━━━━━━━━━━━━━━━━━━\u001b[0m \u001b[32m235.9/235.9 kB\u001b[0m \u001b[31m29.5 MB/s\u001b[0m eta \u001b[36m0:00:00\u001b[0m\n",
      "\u001b[?25hCollecting fuzzywuzzy\n",
      "  Downloading fuzzywuzzy-0.18.0-py2.py3-none-any.whl (18 kB)\n",
      "Building wheels for collected packages: vaderSentiment-fr\n",
      "  Building wheel for vaderSentiment-fr (setup.py) ... \u001b[?25ldone\n",
      "\u001b[?25h  Created wheel for vaderSentiment-fr: filename=vaderSentiment_fr-1.3.4-py3-none-any.whl size=185962 sha256=0c467bed48b58d74f82a86ae85427dd49e46cb06d17da7d0f400f6f11dea7db8\n",
      "  Stored in directory: /home/onyxia/.cache/pip/wheels/41/af/a8/bac97b8b2a130f0fb51c7bca1c093ca6fb3b9509e91a3aedae\n",
      "Successfully built vaderSentiment-fr\n",
      "Installing collected packages: fuzzywuzzy, unidecode, vaderSentiment-fr\n",
      "Successfully installed fuzzywuzzy-0.18.0 unidecode-1.3.6 vaderSentiment-fr-1.3.4\n",
      "Collecting deep-translator\n",
      "  Downloading deep_translator-1.9.1-py3-none-any.whl (30 kB)\n",
      "Requirement already satisfied: requests<3.0.0,>=2.23.0 in /opt/mamba/lib/python3.10/site-packages (from deep-translator) (2.28.1)\n",
      "Requirement already satisfied: beautifulsoup4<5.0.0,>=4.9.1 in /opt/mamba/lib/python3.10/site-packages (from deep-translator) (4.11.1)\n",
      "Requirement already satisfied: soupsieve>1.2 in /opt/mamba/lib/python3.10/site-packages (from beautifulsoup4<5.0.0,>=4.9.1->deep-translator) (2.3.2.post1)\n",
      "Requirement already satisfied: certifi>=2017.4.17 in /opt/mamba/lib/python3.10/site-packages (from requests<3.0.0,>=2.23.0->deep-translator) (2022.9.24)\n",
      "Requirement already satisfied: urllib3<1.27,>=1.21.1 in /opt/mamba/lib/python3.10/site-packages (from requests<3.0.0,>=2.23.0->deep-translator) (1.26.11)\n",
      "Requirement already satisfied: idna<4,>=2.5 in /opt/mamba/lib/python3.10/site-packages (from requests<3.0.0,>=2.23.0->deep-translator) (3.4)\n",
      "Requirement already satisfied: charset-normalizer<3,>=2 in /opt/mamba/lib/python3.10/site-packages (from requests<3.0.0,>=2.23.0->deep-translator) (2.1.1)\n",
      "Installing collected packages: deep-translator\n",
      "Successfully installed deep-translator-1.9.1\n",
      "Collecting yellowbrick\n",
      "  Downloading yellowbrick-1.5-py3-none-any.whl (282 kB)\n",
      "\u001b[2K     \u001b[90m━━━━━━━━━━━━━━━━━━━━━━━━━━━━━━━━━━━━━━\u001b[0m \u001b[32m282.6/282.6 kB\u001b[0m \u001b[31m11.2 MB/s\u001b[0m eta \u001b[36m0:00:00\u001b[0m\n",
      "\u001b[?25hRequirement already satisfied: numpy>=1.16.0 in /opt/mamba/lib/python3.10/site-packages (from yellowbrick) (1.23.5)\n",
      "Requirement already satisfied: matplotlib!=3.0.0,>=2.0.2 in /opt/mamba/lib/python3.10/site-packages (from yellowbrick) (3.6.2)\n",
      "Requirement already satisfied: scipy>=1.0.0 in /opt/mamba/lib/python3.10/site-packages (from yellowbrick) (1.9.3)\n",
      "Requirement already satisfied: scikit-learn>=1.0.0 in /opt/mamba/lib/python3.10/site-packages (from yellowbrick) (1.1.3)\n",
      "Requirement already satisfied: cycler>=0.10.0 in /opt/mamba/lib/python3.10/site-packages (from yellowbrick) (0.11.0)\n",
      "Requirement already satisfied: python-dateutil>=2.7 in /opt/mamba/lib/python3.10/site-packages (from matplotlib!=3.0.0,>=2.0.2->yellowbrick) (2.8.2)\n",
      "Requirement already satisfied: contourpy>=1.0.1 in /opt/mamba/lib/python3.10/site-packages (from matplotlib!=3.0.0,>=2.0.2->yellowbrick) (1.0.6)\n",
      "Requirement already satisfied: packaging>=20.0 in /opt/mamba/lib/python3.10/site-packages (from matplotlib!=3.0.0,>=2.0.2->yellowbrick) (21.3)\n",
      "Requirement already satisfied: pyparsing>=2.2.1 in /opt/mamba/lib/python3.10/site-packages (from matplotlib!=3.0.0,>=2.0.2->yellowbrick) (3.0.9)\n",
      "Requirement already satisfied: fonttools>=4.22.0 in /opt/mamba/lib/python3.10/site-packages (from matplotlib!=3.0.0,>=2.0.2->yellowbrick) (4.38.0)\n",
      "Requirement already satisfied: kiwisolver>=1.0.1 in /opt/mamba/lib/python3.10/site-packages (from matplotlib!=3.0.0,>=2.0.2->yellowbrick) (1.4.4)\n",
      "Requirement already satisfied: pillow>=6.2.0 in /opt/mamba/lib/python3.10/site-packages (from matplotlib!=3.0.0,>=2.0.2->yellowbrick) (9.2.0)\n",
      "Requirement already satisfied: threadpoolctl>=2.0.0 in /opt/mamba/lib/python3.10/site-packages (from scikit-learn>=1.0.0->yellowbrick) (3.1.0)\n",
      "Requirement already satisfied: joblib>=1.0.0 in /opt/mamba/lib/python3.10/site-packages (from scikit-learn>=1.0.0->yellowbrick) (1.2.0)\n",
      "Requirement already satisfied: six>=1.5 in /opt/mamba/lib/python3.10/site-packages (from python-dateutil>=2.7->matplotlib!=3.0.0,>=2.0.2->yellowbrick) (1.16.0)\n",
      "Installing collected packages: yellowbrick\n",
      "Successfully installed yellowbrick-1.5\n"
     ]
    }
   ],
   "source": [
    "#Installation des packages nécessaires\n",
    "\n",
    "!pip install langdetect \n",
    "!pip install wordcloud\n",
    "!pip install nltk\n",
    "!pip install  gensim\n",
    "!pip install vaderSentiment\n",
    "!pip install textblob\n",
    "!pip install vaderSentiment-fr\n",
    "!pip install deep-translator\n",
    "!pip install yellowbrick"
   ]
  },
  {
   "cell_type": "code",
   "execution_count": 31,
   "id": "984e5739-c236-4bd7-b59e-0e73d949a441",
   "metadata": {},
   "outputs": [
    {
     "name": "stderr",
     "output_type": "stream",
     "text": [
      "[nltk_data] Downloading package stopwords to /home/onyxia/nltk_data...\n",
      "[nltk_data]   Unzipping corpora/stopwords.zip.\n",
      "[nltk_data] Downloading package punkt to /home/onyxia/nltk_data...\n",
      "[nltk_data]   Unzipping tokenizers/punkt.zip.\n",
      "[nltk_data] Downloading package vader_lexicon to\n",
      "[nltk_data]     /home/onyxia/nltk_data...\n"
     ]
    }
   ],
   "source": [
    "#Importation des librairies nécessaires\n",
    "\n",
    "from langdetect import detect # pour détecter les langues\n",
    "import sklearn as sk\n",
    "from wordcloud import WordCloud # pour gérer les nuages de mots\n",
    "from deep_translator import GoogleTranslator \n",
    "\n",
    "#stopword français\n",
    "import nltk\n",
    "from nltk.corpus import stopwords \n",
    "nltk.download('stopwords') \n",
    "\n",
    "# stopword anglais\n",
    "import gensim \n",
    "from gensim.parsing.preprocessing import STOPWORDS \n",
    "\n",
    "#from gensim import corpora\n",
    "\n",
    "from PIL import Image # pour personaliser la forme du wordcloud\n",
    "\n",
    "# Pour l'analyse des sentiments\n",
    "nltk.download('punkt')\n",
    "nltk.download('vader_lexicon')\n",
    "from nltk.sentiment.vader import SentimentIntensityAnalyzer as SenEN\n",
    "analyzer = SenEN()\n",
    "\n",
    "#Pour les classements des mots les plus fréquents\n",
    "from sklearn.feature_extraction.text import CountVectorizer\n",
    "from yellowbrick.text.freqdist import FreqDistVisualizer\n",
    "from yellowbrick.style import set_palette"
   ]
  },
  {
   "cell_type": "markdown",
   "id": "a5d572d0-3965-4358-a167-354b3582a882",
   "metadata": {},
   "source": [
    "#### Détection des langues"
   ]
  },
  {
   "cell_type": "code",
   "execution_count": 35,
   "id": "1a54cc3f-48ac-4790-9a7b-2a15d60afdad",
   "metadata": {},
   "outputs": [],
   "source": [
    "# Fonction pour détecter les langues utilisées\n",
    "def language_detection(text):\n",
    "    try:\n",
    "        return detect(text)\n",
    "    except:\n",
    "        return None\n"
   ]
  },
  {
   "cell_type": "code",
   "execution_count": 36,
   "id": "e60b593c-1a12-4248-b5c5-fb872cf676a9",
   "metadata": {},
   "outputs": [
    {
     "name": "stdout",
     "output_type": "stream",
     "text": [
      "Les commentaires sont rédigés en 7 langues\n"
     ]
    },
    {
     "data": {
      "text/plain": [
       "fr    1733\n",
       "en     776\n",
       "es       5\n",
       "pt       3\n",
       "it       1\n",
       "tr       1\n",
       "sl       1\n",
       "Name: langues, dtype: int64"
      ]
     },
     "execution_count": 36,
     "metadata": {},
     "output_type": "execute_result"
    }
   ],
   "source": [
    "df['langues']=df['comment'].apply(language_detection)\n",
    "print(f\"Les commentaires sont rédigés en {len(df.langues.unique())} langues\")\n",
    "df['langues'].value_counts()"
   ]
  },
  {
   "cell_type": "code",
   "execution_count": 37,
   "id": "f13ebe72-67ff-497d-b1ae-725922b7d661",
   "metadata": {},
   "outputs": [
    {
     "data": {
      "text/html": [
       "<div>\n",
       "<style scoped>\n",
       "    .dataframe tbody tr th:only-of-type {\n",
       "        vertical-align: middle;\n",
       "    }\n",
       "\n",
       "    .dataframe tbody tr th {\n",
       "        vertical-align: top;\n",
       "    }\n",
       "\n",
       "    .dataframe thead th {\n",
       "        text-align: right;\n",
       "    }\n",
       "</style>\n",
       "<table border=\"1\" class=\"dataframe\">\n",
       "  <thead>\n",
       "    <tr style=\"text-align: right;\">\n",
       "      <th></th>\n",
       "      <th>Country</th>\n",
       "      <th>rating</th>\n",
       "      <th>contract</th>\n",
       "      <th>is_employed</th>\n",
       "      <th>job</th>\n",
       "      <th>city</th>\n",
       "      <th>date</th>\n",
       "      <th>comment</th>\n",
       "      <th>langues</th>\n",
       "    </tr>\n",
       "  </thead>\n",
       "  <tbody>\n",
       "    <tr>\n",
       "      <th>0</th>\n",
       "      <td>France</td>\n",
       "      <td>3.0</td>\n",
       "      <td>cdd</td>\n",
       "      <td>0</td>\n",
       "      <td>Conseillère clientèle</td>\n",
       "      <td>Massy</td>\n",
       "      <td>2022</td>\n",
       "      <td>Bonne équipe, dommage que la direction soit bl...</td>\n",
       "      <td>fr</td>\n",
       "    </tr>\n",
       "    <tr>\n",
       "      <th>1</th>\n",
       "      <td>France</td>\n",
       "      <td>5.0</td>\n",
       "      <td>NaN</td>\n",
       "      <td>0</td>\n",
       "      <td>Responsable</td>\n",
       "      <td>Falaise</td>\n",
       "      <td>2022</td>\n",
       "      <td>Équipe au top, l'esprit d'équipe fait la force...</td>\n",
       "      <td>fr</td>\n",
       "    </tr>\n",
       "    <tr>\n",
       "      <th>2</th>\n",
       "      <td>France</td>\n",
       "      <td>4.0</td>\n",
       "      <td>NaN</td>\n",
       "      <td>0</td>\n",
       "      <td>Compliance Officer</td>\n",
       "      <td>Nanterre</td>\n",
       "      <td>2022</td>\n",
       "      <td>Bonne ambiance, bonne équipe, bon relationnel,...</td>\n",
       "      <td>fr</td>\n",
       "    </tr>\n",
       "    <tr>\n",
       "      <th>3</th>\n",
       "      <td>France</td>\n",
       "      <td>5.0</td>\n",
       "      <td>NaN</td>\n",
       "      <td>0</td>\n",
       "      <td>Assistante administrative</td>\n",
       "      <td>Saint-dié-des-vosges</td>\n",
       "      <td>2022</td>\n",
       "      <td>Missions variées, solidarité dans l’équipe et ...</td>\n",
       "      <td>fr</td>\n",
       "    </tr>\n",
       "    <tr>\n",
       "      <th>4</th>\n",
       "      <td>France</td>\n",
       "      <td>4.0</td>\n",
       "      <td>NaN</td>\n",
       "      <td>0</td>\n",
       "      <td>Chargée de communication</td>\n",
       "      <td>La défense</td>\n",
       "      <td>2022</td>\n",
       "      <td>Première expérience professionnelle durant 3 a...</td>\n",
       "      <td>fr</td>\n",
       "    </tr>\n",
       "  </tbody>\n",
       "</table>\n",
       "</div>"
      ],
      "text/plain": [
       "  Country  rating contract  is_employed                        job  \\\n",
       "0  France     3.0      cdd            0      Conseillère clientèle   \n",
       "1  France     5.0      NaN            0                Responsable   \n",
       "2  France     4.0      NaN            0         Compliance Officer   \n",
       "3  France     5.0      NaN            0  Assistante administrative   \n",
       "4  France     4.0      NaN            0   Chargée de communication   \n",
       "\n",
       "                    city  date  \\\n",
       "0                 Massy   2022   \n",
       "1                Falaise  2022   \n",
       "2              Nanterre   2022   \n",
       "3  Saint-dié-des-vosges   2022   \n",
       "4            La défense   2022   \n",
       "\n",
       "                                             comment langues  \n",
       "0  Bonne équipe, dommage que la direction soit bl...      fr  \n",
       "1  Équipe au top, l'esprit d'équipe fait la force...      fr  \n",
       "2  Bonne ambiance, bonne équipe, bon relationnel,...      fr  \n",
       "3  Missions variées, solidarité dans l’équipe et ...      fr  \n",
       "4  Première expérience professionnelle durant 3 a...      fr  "
      ]
     },
     "execution_count": 37,
     "metadata": {},
     "output_type": "execute_result"
    }
   ],
   "source": [
    "df.head()"
   ]
  },
  {
   "cell_type": "code",
   "execution_count": null,
   "id": "a14505d8-7531-47d0-80f5-879b73299a5c",
   "metadata": {},
   "outputs": [],
   "source": []
  }
 ],
 "metadata": {
  "kernelspec": {
   "display_name": "Python 3 (ipykernel)",
   "language": "python",
   "name": "python3"
  },
  "language_info": {
   "codemirror_mode": {
    "name": "ipython",
    "version": 3
   },
   "file_extension": ".py",
   "mimetype": "text/x-python",
   "name": "python",
   "nbconvert_exporter": "python",
   "pygments_lexer": "ipython3",
   "version": "3.10.4"
  }
 },
 "nbformat": 4,
 "nbformat_minor": 5
}
